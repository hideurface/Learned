{
  "cells": [
    {
      "cell_type": "markdown",
      "metadata": {
        "colab_type": "text",
        "id": "view-in-github"
      },
      "source": [
        "<a href=\"https://colab.research.google.com/github/hideurface/Learned/blob/main/%EC%BD%94%EB%94%A9%EB%8F%84%EC%9E%A5_COS_PRO_2%EA%B8%89.ipynb\" target=\"_parent\"><img src=\"https://colab.research.google.com/assets/colab-badge.svg\" alt=\"Open In Colab\"/></a>"
      ]
    },
    {
      "cell_type": "markdown",
      "metadata": {
        "id": "F05sd2Qk-oA0"
      },
      "source": [
        "# 코딩도장"
      ]
    },
    {
      "cell_type": "markdown",
      "metadata": {
        "id": "e2uYFqWZUG1R"
      },
      "source": [
        "**24.5 심사문제: 특정 단어 개수 세기**"
      ]
    },
    {
      "cell_type": "code",
      "execution_count": 1,
      "metadata": {
        "colab": {
          "base_uri": "https://localhost:8080/"
        },
        "id": "VlMamoPvUAQY",
        "outputId": "c4ff8715-935b-4a16-b38a-6c56a9c8d8db"
      },
      "outputs": [
        {
          "name": "stdout",
          "output_type": "stream",
          "text": [
            "the thetheethe\n",
            "1\n"
          ]
        }
      ],
      "source": [
        "\"\"\" 입력\n",
        "the grown-ups' response, this time, was to advise me to lay aside my drawings of boa constrictors, whether from the inside or the outside, and devote myself instead to geography, history, arithmetic, and grammar. That is why, at the, age of six, I gave up what might have been a magnificent career as a painter. I had been disheartened by the failure of my Drawing Number One and my Drawing Number Two. Grown-ups never understand anything by themselves, and it is tiresome for children to be always and forever explaining things to the.\n",
        "\"\"\"\n",
        "text = input()\n",
        "word = text.split(',')\n",
        "word_ = \"\".join(word)\n",
        "word = word_.split('.')\n",
        "word_ = \"\".join(word)\n",
        "word = word_.split()\n",
        "print(word.count(\"the\"))"
      ]
    },
    {
      "cell_type": "markdown",
      "metadata": {
        "id": "UhIWCxTCTli5"
      },
      "source": [
        "**24.6 심사문제: 높은 가격순으로 출력**"
      ]
    },
    {
      "cell_type": "code",
      "execution_count": null,
      "metadata": {
        "id": "TfxDa87KTg5j"
      },
      "outputs": [],
      "source": [
        "\"\"\"\n",
        "51900;83000;158000;367500;250000;59200;128500;1304000\n",
        "\"\"\"\n",
        "text = input()  #입력\n",
        "table = text.split(';') \n",
        "num_table = list(map(int, table))\n",
        "sort_table = sorted(num_table)\n",
        "\n",
        "for i in reversed(sort_table):\n",
        "  print('{0:9,}'.format(i))"
      ]
    },
    {
      "cell_type": "markdown",
      "metadata": {
        "id": "QbWJ-EAbYHch"
      },
      "source": [
        "**25.8 심사문제: 딕셔너리에서 특정값 삭제**"
      ]
    },
    {
      "cell_type": "code",
      "execution_count": null,
      "metadata": {
        "colab": {
          "base_uri": "https://localhost:8080/"
        },
        "id": "bVgIJdRFYPgj",
        "outputId": "9fdae822-ce9f-431a-9c42-1e6318ce1f8b"
      },
      "outputs": [
        {
          "name": "stdout",
          "output_type": "stream",
          "text": [
            "alpha bravo charlie delta echo foxtrot golf\n",
            "30 40 50 60 70 80 90\n",
            "{'bravo': 40, 'charlie': 50, 'echo': 70, 'foxtrot': 80, 'golf': 90}\n"
          ]
        }
      ],
      "source": [
        "keys = input().split()\n",
        "values = map(int, input().split())\n",
        " \n",
        "x = dict(zip(keys, values))\n",
        "x = {key: value for key, value in x.items() if value != 30}\n",
        "x = {key: value for key, value in x.items() if key != \"delta\"}\n",
        "\n",
        "print(x)"
      ]
    },
    {
      "cell_type": "markdown",
      "metadata": {
        "id": "-jkb4RZaKgGg"
      },
      "source": [
        "26.9 심사문제: 공약수 구하기"
      ]
    },
    {
      "cell_type": "code",
      "execution_count": null,
      "metadata": {
        "colab": {
          "base_uri": "https://localhost:8080/"
        },
        "id": "mJVXkxN6KmgI",
        "outputId": "94ebb24c-c74d-4a1f-d23c-7f44312139b6"
      },
      "outputs": [
        {
          "name": "stdout",
          "output_type": "stream",
          "text": [
            "100 200\n",
            "217\n"
          ]
        }
      ],
      "source": [
        "num, num2 = map(int, input().split())\n",
        "\n",
        "a = {i for i in range(1, num+1) if num % i == 0}\n",
        "b = {i for i in range(1, num2+1) if num2 % i == 0}\n",
        "\n",
        "divisor = a & b\n",
        " \n",
        "result = 0\n",
        "if type(divisor) == set:\n",
        "    result = sum(divisor)\n",
        " \n",
        "print(result)"
      ]
    },
    {
      "cell_type": "markdown",
      "metadata": {
        "id": "pCERNKCuSOtL"
      },
      "source": [
        "**27.6 심사문제: 특정 문자가 들어있는 단어 찾기**"
      ]
    },
    {
      "cell_type": "code",
      "execution_count": null,
      "metadata": {
        "colab": {
          "base_uri": "https://localhost:8080/"
        },
        "id": "5I_PcdCISY9S",
        "outputId": "5150d873-864a-4e97-bf83-dc3df0e1d1ad"
      },
      "outputs": [
        {
          "name": "stdout",
          "output_type": "stream",
          "text": [
            "Fortunately, however, for the reputation of Asteroid B-612, a Turkish dictator made a law that his subjects, under pain of death, should change to European costume. So in 1920 the astronomer gave his demonstration all over again, dressed with impressive style and elegance. And this time everybody accepted his report.\n",
            "<generator object <genexpr> at 0x7f2b29c96ed0>\n"
          ]
        }
      ],
      "source": [
        "with open('words.txt', 'r') as file:\n",
        "\n",
        "    temp = file.readlines()\n",
        "    words = temp.split()\n",
        "    for i in words:\n",
        "        if \"c\" in i:\n",
        "            print(i.strip(',.'))"
      ]
    },
    {
      "cell_type": "markdown",
      "metadata": {
        "id": "_Erj-Uqnd5--"
      },
      "source": [
        "**Pallindrome**"
      ]
    },
    {
      "cell_type": "code",
      "execution_count": null,
      "metadata": {
        "colab": {
          "base_uri": "https://localhost:8080/"
        },
        "id": "8ZPs9UoScKsy",
        "outputId": "27e52479-c0a7-425b-9ad9-01daae738526"
      },
      "outputs": [
        {
          "name": "stdout",
          "output_type": "stream",
          "text": [
            "단어를 입력하세요: level\n",
            "True\n"
          ]
        }
      ],
      "source": [
        "word = input('단어를 입력하세요: ')\n",
        " \n",
        "is_palindrome = True                 # 회문 판별값을 저장할 변수, 초깃값은 True\n",
        "for i in range(len(word) // 2):      # 0부터 문자열 길이의 절반만큼 반복\n",
        "  if word[i] != word[-1 - i]:      # 왼쪽 문자와 오른쪽 문자를 비교하여 문자가 다르면 word[i] ex +1,2 word[-1 -i] ex-1, -2\n",
        "    is_palindrome = False        # 회문이 아님\n",
        "    break\n",
        " \n",
        "print(is_palindrome)                 # 회문 판별값 출력\n",
        "\n",
        "print(word == word[::-1])\n",
        "list(word == list(reversed(word)))\n"
      ]
    },
    {
      "cell_type": "markdown",
      "metadata": {
        "id": "feL1xhyVd9_G"
      },
      "source": [
        "**N-gram**"
      ]
    },
    {
      "cell_type": "code",
      "execution_count": null,
      "metadata": {
        "colab": {
          "base_uri": "https://localhost:8080/"
        },
        "id": "JKiPWS68d_zm",
        "outputId": "c3b3e6f8-2ba9-4593-eca8-d94f15680089"
      },
      "outputs": [
        {
          "name": "stdout",
          "output_type": "stream",
          "text": [
            "He\n",
            "el\n",
            "ll\n",
            "lo\n",
            "this is\n",
            "is python\n",
            "python script\n",
            "he\n",
            "el\n",
            "ll\n",
            "lo\n"
          ]
        }
      ],
      "source": [
        "#문자열\n",
        "text = 'Hello'\n",
        " \n",
        "for i in range(len(text) - 1):             # 2-gram이므로 문자열의 끝에서 한 글자 앞까지만 반복함\n",
        "    print(text[i], text[i + 1], sep='') \n",
        "\n",
        "#단어 단위\n",
        "text = 'this is python script'\n",
        "words = text.split()                 # 공백을 기준으로 문자열을 분리하여 리스트로 만듦\n",
        " \n",
        "for i in range(len(words) - 1):      # 2-gram이므로 리스트의 마지막에서 요소 한 개 앞까지만 반복함\n",
        "    print(words[i], words[i + 1])\n",
        "\n",
        "#Zip 함수 사용\n",
        "text = 'hello'\n",
        " \n",
        "two_gram = zip(text, text[1:])\n",
        "for i in two_gram:\n",
        "    print(i[0], i[1], sep='')\n",
        "\n",
        "text = 'this is python script'\n",
        "words = text.split()\n",
        "list(zip(words, words[1:]))"
      ]
    },
    {
      "cell_type": "markdown",
      "metadata": {
        "id": "kQ4KObjmgnP6"
      },
      "source": [
        "**29.4 심사문제: 사칙 연산 함수 만들기**"
      ]
    },
    {
      "cell_type": "code",
      "execution_count": null,
      "metadata": {
        "colab": {
          "base_uri": "https://localhost:8080/"
        },
        "id": "PVuXgnMIgryp",
        "outputId": "6eb2a15b-2766-40fc-b80a-4039912edf5f"
      },
      "outputs": [
        {
          "name": "stdout",
          "output_type": "stream",
          "text": [
            "덧셈: 30, 뺄셈: -10, 곱셈: 200, 나눗셈: 0.5\n"
          ]
        }
      ],
      "source": [
        "x, y = 10, 20\n",
        "\n",
        "def calc(x,y):\n",
        "  \"\"\" 4칙연산 \"\"\"\n",
        "  a = x + y\n",
        "  s = x - y\n",
        "  m = x * y\n",
        "  d = x / y\n",
        "  return a, s, m, float(d)\n",
        "\n",
        "a, s, m, d = calc(x, y)\n",
        "print('덧셈: {0}, 뺄셈: {1}, 곱셈: {2}, 나눗셈: {3}'.format(a, s, m, d))"
      ]
    },
    {
      "cell_type": "markdown",
      "metadata": {
        "id": "Mc_W2P0hxDg2"
      },
      "source": [
        "**28.4 심사문제: 파일에서 회문인 단어 찾기**"
      ]
    },
    {
      "cell_type": "code",
      "execution_count": null,
      "metadata": {
        "colab": {
          "base_uri": "https://localhost:8080/"
        },
        "id": "ARLADY6txG0G",
        "outputId": "77388f21-756a-43ba-f665-61325a1ede32"
      },
      "outputs": [
        {
          "name": "stdout",
          "output_type": "stream",
          "text": [
            "단어를 입력하세요: apache decal did neep noon refer river\n",
            "['apache', 'decal', 'did', 'neep', 'noon', 'refer', 'river']\n",
            "did\n",
            "noon\n",
            "refer\n"
          ]
        }
      ],
      "source": [
        "word = input('단어를 입력하세요: ')\n",
        "table = word.split() \n",
        "print(table)\n",
        "def pallindrome(words):\n",
        "  if words == words[::-1]:\n",
        "    return print(words)\n",
        "\n",
        "for i in table:\n",
        "  pallindrome(i)\n",
        "\n",
        "#list(word == list(reversed(word)))"
      ]
    },
    {
      "cell_type": "markdown",
      "metadata": {
        "id": "QIiZRjh28D1u"
      },
      "source": [
        "**30.7 심사문제: 낮은값 높은값**"
      ]
    },
    {
      "cell_type": "code",
      "execution_count": null,
      "metadata": {
        "colab": {
          "base_uri": "https://localhost:8080/"
        },
        "id": "dyFghoej8HB1",
        "outputId": "59ac9017-cf75-4cef-f9af-e55ccf30afe1"
      },
      "outputs": [
        {
          "name": "stdout",
          "output_type": "stream",
          "text": [
            "89 92 73 83\n",
            "낮은 점수: 73.00, 높은 점수: 92.00, 평균 점수: 84.25\n",
            "낮은 점수: 83.00, 높은 점수: 92.00, 평균 점수: 87.50\n"
          ]
        }
      ],
      "source": [
        "korean, english, mathematics, science = map(int, input().split())\n",
        "\n",
        "def get_min_max_score(*args):\n",
        "  return min(args), max(args)\n",
        "\n",
        "def get_average(**kwargs):\n",
        "  count, sum = 0, 0\n",
        "  for key, value in kwargs.items():\n",
        "    sum += value\n",
        "    count += 1\n",
        "  return sum / count\n",
        "\n",
        "min_score, max_score = get_min_max_score(korean, english, mathematics, science)\n",
        "average_score = get_average(korean=korean, english=english, mathematics=mathematics, science=science)\n",
        "print('낮은 점수: {0:.2f}, 높은 점수: {1:.2f}, 평균 점수: {2:.2f}'.format(min_score, max_score, average_score))\n",
        " \n",
        "min_score, max_score = get_min_max_score(english, science)\n",
        "average_score = get_average(english=english, science=science)\n",
        "print('낮은 점수: {0:.2f}, 높은 점수: {1:.2f}, 평균 점수: {2:.2f}'.format(min_score, max_score, average_score))"
      ]
    },
    {
      "cell_type": "markdown",
      "metadata": {
        "id": "ML_6NOERQUg5"
      },
      "source": [
        "**31.5 심사문제: 재귀호출로 피보나치 수 구하기**"
      ]
    },
    {
      "cell_type": "code",
      "execution_count": null,
      "metadata": {
        "colab": {
          "base_uri": "https://localhost:8080/"
        },
        "id": "lsPBtK2qQY4B",
        "outputId": "fd10edab-2f88-40dc-fdf9-0ac765a515bc"
      },
      "outputs": [
        {
          "name": "stdout",
          "output_type": "stream",
          "text": [
            "0 1 1 2 3 5 8 13 21 34 55 89 "
          ]
        }
      ],
      "source": [
        "\"\"\"\n",
        "def fib(n):\n",
        "    if n == 0:\n",
        "        return 0\n",
        "    elif n == 1 or n == 2:\n",
        "        return 1\n",
        "    else:\n",
        "        return fib(n - 1) + fib(n - 2)\n",
        "\"\"\"\n",
        "num, i, num_a, num_b = 10, 0, 0, 1\n",
        "print(num_a, num_b, end=\" \")\n",
        "while i < num:\n",
        "  result = num_a + num_b\n",
        "  num_a = num_b\n",
        "  num_b = result\n",
        "  i += 1\n",
        "  print(result, end=\" \")"
      ]
    },
    {
      "cell_type": "markdown",
      "metadata": {
        "id": "dKNYcw31iEZU"
      },
      "source": [
        "32.5 심사문제: 파일 이름을 한번에 바꾸기"
      ]
    },
    {
      "cell_type": "code",
      "execution_count": null,
      "metadata": {
        "colab": {
          "base_uri": "https://localhost:8080/"
        },
        "id": "qQ4j0RwaZiDq",
        "outputId": "14b7db33-8b48-44e1-de44-9c87514904ab"
      },
      "outputs": [
        {
          "name": "stdout",
          "output_type": "stream",
          "text": [
            "['001.jpg', '010.png', '011.png', '002.jpg', '003.png']\n"
          ]
        }
      ],
      "source": [
        "\"\"\"\n",
        "files = ['font', '1.png', '10.jpg', '11.gif', '2.jpg', '3.png', 'table.xslx', 'spec.docx']\n",
        "list(filter(lambda x: x.find('.jpg') != -1 or x.find('.png') != -1, files)) #find 일치할 때 -1 반환\n",
        "\"\"\"\n",
        "files = ['1.jpg', '10.png', '11.png', '2.jpg', '3.png']\n",
        "print(list(map(lambda x: '{0:03d}'.format(int(x.split('.')[0])) + \".\" + x.split('.')[1], files)))"
      ]
    },
    {
      "cell_type": "markdown",
      "metadata": {
        "id": "OtJABARwrAr0"
      },
      "source": [
        "**33.6 심사문제: 카운트다운 함수 만들기**"
      ]
    },
    {
      "cell_type": "code",
      "execution_count": null,
      "metadata": {
        "colab": {
          "base_uri": "https://localhost:8080/"
        },
        "id": "tPvV6n6HiMKi",
        "outputId": "b3382896-1972-4148-a0fe-c23b699f5daf"
      },
      "outputs": [
        {
          "name": "stdout",
          "output_type": "stream",
          "text": [
            "20 19 18 17 16 15 14 13 12 11 10 9 8 7 6 5 4 3 2 1 "
          ]
        }
      ],
      "source": [
        "def countdown(n):\n",
        "  i = n + 1\n",
        "  def count():\n",
        "    nonlocal i\n",
        "    i -= 1\n",
        "    return i\n",
        "  return count\n",
        "\n",
        "n = 20\n",
        "\n",
        "c = countdown(n)\n",
        "for i in range(n):\n",
        "    print(c(), end=' ')"
      ]
    },
    {
      "cell_type": "code",
      "execution_count": null,
      "metadata": {
        "colab": {
          "base_uri": "https://localhost:8080/"
        },
        "id": "efaB3q23sLpR",
        "outputId": "07d3d1e4-c6e4-4722-ebdc-8fdafccc8676"
      },
      "outputs": [
        {
          "name": "stdout",
          "output_type": "stream",
          "text": [
            "안녕하세요. 저는 마리아입니다.\n",
            "이름: 마리아\n",
            "나이: 20\n",
            "주소: 서울시 서초구 반포동\n"
          ]
        }
      ],
      "source": [
        "class Person:\n",
        "    def __init__(self, name, age, address):\n",
        "        self.hello = '안녕하세요.'\n",
        "        self.name = name\n",
        "        self.age = age\n",
        "        self.address = address\n",
        "        self.__wallet = wallet\n",
        " \n",
        "    def greeting(self):\n",
        "        print('{0} 저는 {1}입니다.'.format(self.hello, self.name))\n",
        "\n",
        "    def pay(self, amount):\n",
        "      self.__wallet -= amount\n",
        "      print(amount)\n",
        "\n",
        " \n",
        "maria = Person('마리아', 20, '서울시 서초구 반포동')\n",
        "maria.greeting()    # 안녕하세요. 저는 마리아입니다.\n",
        " \n",
        "print('이름:', maria.name)       # 마리아\n",
        "print('나이:', maria.age)        # 20\n",
        "print('주소:', maria.address)"
      ]
    },
    {
      "cell_type": "markdown",
      "metadata": {
        "id": "44ibTGliw8ga"
      },
      "source": [
        "**34.6 심사문제: 게임 케릭터 클래스 만들기**"
      ]
    },
    {
      "cell_type": "code",
      "execution_count": null,
      "metadata": {
        "colab": {
          "base_uri": "https://localhost:8080/"
        },
        "id": "R1Fv-kc2vgN8",
        "outputId": "d77c44ce-8b9a-4f61-a820-f9492251a7dd"
      },
      "outputs": [
        {
          "name": "stdout",
          "output_type": "stream",
          "text": [
            "1803.68 1184.0 645\n",
            "티버: 피해량 819.25\n"
          ]
        }
      ],
      "source": [
        "class Annie:\n",
        "  def __init__(self, health, mana, ability_power):\n",
        "    self.health = health\n",
        "    self.mana = mana\n",
        "    self.ability_power = ability_power\n",
        "\n",
        "  def tibbers(self):\n",
        "    ap = self.ability_power * 0.65 +400\n",
        "    print(\"티버: 피해량 {}\".format(ap))\n",
        "\n",
        "health, mana, ability_power = map(float, input().split())\n",
        " \n",
        "x = Annie(health=health, mana=mana, ability_power=ability_power)\n",
        "x.tibbers()"
      ]
    },
    {
      "cell_type": "markdown",
      "metadata": {
        "id": "bVGfj69IxSIJ"
      },
      "source": [
        "**35.6 시간 클래스 만들기**"
      ]
    },
    {
      "cell_type": "code",
      "execution_count": null,
      "metadata": {
        "colab": {
          "base_uri": "https://localhost:8080/"
        },
        "id": "mlzA54yGxV7J",
        "outputId": "0516656b-194b-407f-f8ae-cc397d6c801a"
      },
      "outputs": [
        {
          "name": "stdout",
          "output_type": "stream",
          "text": [
            "22:20:20\n",
            "22 20 20\n"
          ]
        }
      ],
      "source": [
        "class Time:\n",
        "  def __init__(self, hour, minute, second):\n",
        "    self.hour = hour\n",
        "    self.minute = minute\n",
        "    self.second = second\n",
        "\n",
        "  @classmethod\n",
        "  def from_string(cls, time_string):\n",
        "    hour, minute, second = map(int, time_string.split(\":\"))\n",
        "    return cls(hour, minute, second)\n",
        "\n",
        "  @staticmethod\n",
        "  def is_time_valid(time_string):\n",
        "    hour, minute, second = map(int, time_string.split(\":\"))\n",
        "    return 24 >= hour and 59 >= minute and 60 >= second\n",
        "  \n",
        "time_string = input()\n",
        " \n",
        "if Time.is_time_valid(time_string):\n",
        "  t = Time.from_string(time_string)\n",
        "  print(t.hour, t.minute, t.second)\n",
        "else:\n",
        "  print('잘못된 시간 형식입니다.')"
      ]
    },
    {
      "cell_type": "markdown",
      "metadata": {},
      "source": [
        "36.9 다중 상속"
      ]
    },
    {
      "cell_type": "code",
      "execution_count": 2,
      "metadata": {},
      "outputs": [
        {
          "name": "stdout",
          "output_type": "stream",
          "text": [
            "먹다\n",
            "파닥거리다\n",
            "날다\n",
            "True\n",
            "True\n"
          ]
        }
      ],
      "source": [
        "class Animal:\n",
        "    def eat(self):\n",
        "        print('먹다')\n",
        " \n",
        "class Wing:\n",
        "    def flap(self):\n",
        "        print('파닥거리다')\n",
        "\n",
        "class Bird(Animal, Wing):\n",
        "    def fly(self):\n",
        "        print('날다')\n",
        "\n",
        "b = Bird()\n",
        "b.eat()\n",
        "b.flap()\n",
        "b.fly()\n",
        "print(issubclass(Bird, Animal))\n",
        "print(issubclass(Bird, Wing))"
      ]
    },
    {
      "cell_type": "markdown",
      "metadata": {},
      "source": [
        "37.3 두 점 사이의 거리 구하기"
      ]
    },
    {
      "cell_type": "code",
      "execution_count": 4,
      "metadata": {},
      "outputs": [
        {
          "name": "stdout",
          "output_type": "stream",
          "text": [
            "42.42640687119285\n"
          ]
        }
      ],
      "source": [
        "import math\n",
        " \n",
        "class Point2D:\n",
        "    def __init__(self, x=0, y=0):\n",
        "        self.x = x\n",
        "        self.y = y\n",
        " \n",
        "length = 0.0\n",
        "p = [Point2D(), Point2D(), Point2D(), Point2D()]\n",
        "p[0].x, p[0].y, p[1].x, p[1].y, p[2].x, p[2].y, p[3].x, p[3].y = map(int, input().split())\n",
        "\n",
        "for i in range(len(p)-1):\n",
        "    width = p[i+1].x - p[i].x\n",
        "    height = p[i+1].y - p[i].y\n",
        "    calc = math.sqrt(math.pow(width, 2)+math.pow(height, 2))\n",
        "    length += calc\n",
        "\n",
        "print(length)"
      ]
    },
    {
      "cell_type": "markdown",
      "metadata": {},
      "source": [
        "38.7 회문이 아니면 예외 발생"
      ]
    },
    {
      "cell_type": "code",
      "execution_count": 5,
      "metadata": {},
      "outputs": [
        {
          "name": "stdout",
          "output_type": "stream",
          "text": [
            "회문이 아닙니다.\n"
          ]
        }
      ],
      "source": [
        "class NotPalindromeError(Exception):\n",
        "    def __init__(self):\n",
        "        super().__init__(\"회문이 아닙니다.\")\n",
        " \n",
        "def palindrome(word):\n",
        "    if word != word[::-1]:\n",
        "        raise NotPalindromeError\n",
        "    print(word)\n",
        "\n",
        "try:\n",
        "    word = input()\n",
        "    palindrome(word)\n",
        "except NotPalindromeError as e:\n",
        "    print(e)"
      ]
    },
    {
      "cell_type": "markdown",
      "metadata": {},
      "source": [
        "39.7 시간 이터레이터 만들기"
      ]
    },
    {
      "cell_type": "code",
      "execution_count": 1,
      "metadata": {},
      "outputs": [
        {
          "name": "stdout",
          "output_type": "stream",
          "text": [
            "00:30:34\n",
            "00:30:35\n",
            "00:30:36\n",
            "\n",
            "00:30:35\n"
          ]
        }
      ],
      "source": [
        "class TimeIterator:\n",
        "    def __init__(self, start, stop):\n",
        "        self.start = start\n",
        "        self.stop = stop\n",
        "    \n",
        "    def __getitem__(self, index):\n",
        "        if index < self.stop - self.start:\n",
        "            f_time = self.start + index\n",
        "            second = f_time  #self.start + index 로 초 계산\n",
        "            second %= 60\n",
        "            minute = f_time // 60 \n",
        "            minute %= 60\n",
        "            hour = f_time // 60 // 60\n",
        "            hour %= 24\n",
        "            return \"{0:02d}:{1:02d}:{2:02d}\".format(hour, minute, second)\n",
        "        else:\n",
        "            raise IndexError\n",
        "\n",
        "start, stop, index = map(int, input().split())\n",
        " \n",
        "for i in TimeIterator(start, stop):\n",
        "    print(i)\n",
        " \n",
        "print('\\n', TimeIterator(start, stop)[index], sep='')"
      ]
    },
    {
      "cell_type": "markdown",
      "metadata": {},
      "source": [
        "40.6 소수 제네레이터"
      ]
    },
    {
      "cell_type": "code",
      "execution_count": 2,
      "metadata": {},
      "outputs": [
        {
          "name": "stdout",
          "output_type": "stream",
          "text": [
            "<class 'generator'>\n",
            "953 967 971 977 983 991 997 "
          ]
        }
      ],
      "source": [
        "'''\n",
        "에라토스네테스의 체\n",
        "'''\n",
        "def prime_number_generator(start, stop):\n",
        "    for n in range(start, stop):    #Start, Stop repeat by n\n",
        "        is_prime = True\n",
        "        for i in range(2, n-1): #n 값 대입 후 돌아가는 for 문으로 n % i == 0 값 찾기\n",
        "            if n % i == 0:  \n",
        "                is_prime = False\n",
        "        if is_prime == True:\n",
        "            yield n\n",
        "\n",
        "start, stop = map(int, input().split())\n",
        " \n",
        "g = prime_number_generator(start, stop)\n",
        "print(type(g))\n",
        "for i in g:\n",
        "    print(i, end=' ')"
      ]
    },
    {
      "cell_type": "markdown",
      "metadata": {},
      "source": [
        "4.16 문자열 검색 코루틴"
      ]
    },
    {
      "cell_type": "code",
      "execution_count": 39,
      "metadata": {},
      "outputs": [
        {
          "name": "stdout",
          "output_type": "stream",
          "text": [
            "12\n",
            "2.0\n",
            "59\n"
          ]
        }
      ],
      "source": [
        "def calc():\n",
        "    result = 0\n",
        "    while True:\n",
        "        expression = (yield result)\n",
        "        a, operator, b = expression.split()\n",
        "        if operator == '+':\n",
        "            result = int(a) + int(b)\n",
        "        elif operator == '-':\n",
        "            result = int(a) - int(b)\n",
        "        elif operator == '*':\n",
        "            result = int(a) * int(b)\n",
        "        else:\n",
        "            result = int(a) / int(b)            \n",
        "\n",
        "expressions = input().split(', ')\n",
        " \n",
        "c = calc()\n",
        "next(c)\n",
        " \n",
        "for e in expressions:\n",
        "    print(c.send(e))\n",
        " \n",
        "c.close()"
      ]
    },
    {
      "cell_type": "code",
      "execution_count": 40,
      "metadata": {},
      "outputs": [
        {
          "name": "stdout",
          "output_type": "stream",
          "text": [
            "1\n",
            "3\n",
            "6\n"
          ]
        }
      ],
      "source": [
        "#Coroutine_decorator\n",
        "\n",
        "def coroutine(func):    # 코루틴 초기화 데코레이터\n",
        "    def init(*args, **kwargs):\n",
        "        co = func(*args, **kwargs)    # 코루틴 객체 생성\n",
        "        next(co)                      # next 호출\n",
        "        return co                     # 코루틴 객체 반환\n",
        "    return init\n",
        " \n",
        "@coroutine    # 코루틴 초기화 데코레이터 지정\n",
        "def sum_coroutine():\n",
        "        total = 0\n",
        "        while True:\n",
        "            x = (yield total)\n",
        "            total += x\n",
        " \n",
        "co = sum_coroutine()    # 코루틴 객체를 생성한 뒤 바로 사용\n",
        " \n",
        "print(co.send(1))\n",
        "print(co.send(2))\n",
        "print(co.send(3))"
      ]
    },
    {
      "cell_type": "code",
      "execution_count": 54,
      "metadata": {},
      "outputs": [
        {
          "name": "stdout",
          "output_type": "stream",
          "text": [
            "add 의 반환값은 3의 배수\n",
            "30\n",
            "add 의 반환값은 3의 배수 X\n",
            "7\n"
          ]
        }
      ],
      "source": [
        "# def trace(func):\n",
        "#     def wrapper(*args, **kwargs):\n",
        "#         r = func(*args, **kwargs)\n",
        "#         print('{0}(args={1}, kwargs={2}) -> {3}'.format(func.__name__, args, kwargs, r))\n",
        "#         return r\n",
        "#     return wrapper\n",
        "\n",
        "# @trace\n",
        "# def get_max(*args):\n",
        "#     return max(args)\n",
        "\n",
        "# @trace\n",
        "# def get_min(**kwargs):\n",
        "#     return min(kwargs.values())\n",
        "\n",
        "# print(get_max(10, 20, 30))\n",
        "# print(get_min(x=10, y=20, z= 100))\n",
        "\n",
        "def is_multiple(x):\n",
        "    def real_decorator(func):\n",
        "        def wrapper(a, b):\n",
        "            r = func(a, b)\n",
        "            if r % x ==0:\n",
        "                print('{0} 의 반환값은 {1}의 배수'.format(func.__name__, x))\n",
        "            else:\n",
        "                print('{0} 의 반환값은 {1}의 배수 X'.format(func.__name__, x))\n",
        "            return r\n",
        "        return wrapper\n",
        "    return real_decorator\n",
        "\n",
        "@is_multiple(3)\n",
        "def add(a, b):\n",
        "    return a + b\n",
        "\n",
        "print(add(10, 20))\n",
        "print(add(2, 5))\n"
      ]
    },
    {
      "cell_type": "markdown",
      "metadata": {
        "id": "2ZcO8Oyb-16r"
      },
      "source": [
        "# COS PRO 2급"
      ]
    },
    {
      "cell_type": "markdown",
      "metadata": {
        "id": "2ZcO8Oyb-16r"
      },
      "source": [
        "# 프로그래머스"
      ]
    },
    {
      "cell_type": "code",
      "execution_count": 3,
      "metadata": {
        "colab": {
          "base_uri": "https://localhost:8080/"
        },
        "id": "GbQQhGuAS4Ps",
        "outputId": "f3dd7ffd-0d4e-4bf4-d527-2bf721b497a9"
      },
      "outputs": [
        {
          "name": "stdout",
          "output_type": "stream",
          "text": [
            "solution 함수의 반환 값은 [1, 2, 0, 2, 1, 0] 입니다.\n"
          ]
        }
      ],
      "source": [
        "def solution(shirt_size):\n",
        "  size_order = [\"XS\", \"S\", \"M\", \"L\", \"XL\", \"XXL\"]\n",
        "  answer = [0 for i in range(len(size_order))]\n",
        "  for i, order in enumerate(size_order):\n",
        "    count = 0\n",
        "    for j in range(len(shirt_size)):\n",
        "      if order == shirt_size[j]:\n",
        "        count += 1\n",
        "        answer[i] = count\n",
        "  return answer\n",
        "\n",
        "shirt_size = [\"XS\", \"S\", \"L\", \"L\", \"XL\", \"S\"]\n",
        "ret = solution(shirt_size);\n",
        "\n",
        "print(\"solution 함수의 반환 값은\", ret, \"입니다.\")"
      ]
    },
    {
      "cell_type": "code",
      "execution_count": 4,
      "metadata": {
        "colab": {
          "base_uri": "https://localhost:8080/"
        },
        "id": "wHF0MUvnruHS",
        "outputId": "85c313f1-d4f3-4380-eb38-654842c65332"
      },
      "outputs": [
        {
          "name": "stdout",
          "output_type": "stream",
          "text": [
            "solution 함수의 반환 값은 2125 입니다.\n",
            "solution 함수의 반환 값은 92055 입니다.\n"
          ]
        }
      ],
      "source": [
        "def solution(price, grade):\n",
        "  discount = {\"V\":15, \"G\":10, \"S\":5}\n",
        "  percentage = discount.get(grade)\n",
        "  return int(price - (price * percentage / 100))\n",
        "\n",
        "price1 = 2500\n",
        "grade1 = \"V\"\n",
        "ret1 = solution(price1, grade1)\n",
        "\n",
        "print(\"solution 함수의 반환 값은\", ret1, \"입니다.\")\n",
        "    \n",
        "price2 = 96900\n",
        "grade2 = \"S\"\n",
        "ret2 = solution(price2, grade2)\n",
        "\n",
        "print(\"solution 함수의 반환 값은\", ret2, \"입니다.\")"
      ]
    },
    {
      "cell_type": "code",
      "execution_count": 5,
      "metadata": {
        "colab": {
          "base_uri": "https://localhost:8080/"
        },
        "id": "V9BkNastDVca",
        "outputId": "3a59c1f4-f400-4930-c5e1-1dd020757501"
      },
      "outputs": [
        {
          "name": "stdout",
          "output_type": "stream",
          "text": [
            "add(1, 0\n"
          ]
        }
      ],
      "source": [
        "input_num = list(input().split())\n",
        "comp, count = input_num[0], 0\n",
        "for i in range(len(input_num)):\n",
        "  if comp < input_num[i]:\n",
        "    comp = input_num[i]\n",
        "    count += 1\n",
        "  else:\n",
        "    pass\n",
        "print(comp, count)\n"
      ]
    }
  ],
  "metadata": {
    "colab": {
      "authorship_tag": "ABX9TyO1bHR4bC5P7jWg7kLXts+S",
      "include_colab_link": true,
      "name": "코딩도장 / COS PRO 2급.ipynb",
      "provenance": [],
      "toc_visible": true
    },
    "interpreter": {
      "hash": "b58fc0fb6991a86bb9915d2b30f822b0a8753c85d40bbc5bd627831ffb8d9a0d"
    },
    "kernelspec": {
      "display_name": "Python 3.8.5 64-bit ('base': conda)",
      "name": "python3"
    },
    "language_info": {
      "codemirror_mode": {
        "name": "ipython",
        "version": 3
      },
      "file_extension": ".py",
      "mimetype": "text/x-python",
      "name": "python",
      "nbconvert_exporter": "python",
      "pygments_lexer": "ipython3",
      "version": "3.8.5"
    }
  },
  "nbformat": 4,
  "nbformat_minor": 0
}
