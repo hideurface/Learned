{
 "cells": [
  {
   "cell_type": "markdown",
   "metadata": {},
   "source": [
    "1.1: Sequential Search\n",
    "\n",
    "문제: 어떤 수 x가 n개의 수로 구성된 리스트 S에 존재하는가?\n",
    "해답: x가 존재하면 x의 인덱스가, 존재하지 않으면 0이 해답\n",
    "파라미터: 정수 n(>0), 리스트 S(인덱스 범위 1~n), 원소 x\n",
    "입력예시: S = [0,10,7,11,5,13,8], n = 6, x =5"
   ]
  },
  {
   "cell_type": "code",
   "execution_count": 5,
   "metadata": {},
   "outputs": [
    {
     "data": {
      "text/plain": [
       "4"
      ]
     },
     "execution_count": 5,
     "metadata": {},
     "output_type": "execute_result"
    }
   ],
   "source": [
    "def seqsearch(S, x):\n",
    "    location = 1\n",
    "    while (location <= len((S)) and S[location] != x):\n",
    "        location += 1\n",
    "    if (location > len(S)):\n",
    "        location = 0\n",
    "    return location\n",
    "\n",
    "seqsearch([0,10,7,11,5,13,8], 5)"
   ]
  },
  {
   "cell_type": "markdown",
   "metadata": {},
   "source": [
    "1.2 Add Array element"
   ]
  },
  {
   "cell_type": "code",
   "execution_count": 7,
   "metadata": {},
   "outputs": [
    {
     "data": {
      "text/plain": [
       "54"
      ]
     },
     "execution_count": 7,
     "metadata": {},
     "output_type": "execute_result"
    }
   ],
   "source": [
    "def sum_array(S):\n",
    "    result = 0\n",
    "    for i in S:\n",
    "        result += i\n",
    "    return result\n",
    "sum_array([0,10,7,11,5,13,8])"
   ]
  },
  {
   "cell_type": "markdown",
   "metadata": {},
   "source": [
    "1.3 Exchange sort"
   ]
  },
  {
   "cell_type": "code",
   "execution_count": 12,
   "metadata": {},
   "outputs": [
    {
     "data": {
      "text/plain": [
       "[0, 5, 7, 8, 10, 11, 13]"
      ]
     },
     "execution_count": 12,
     "metadata": {},
     "output_type": "execute_result"
    }
   ],
   "source": [
    "def exchange(S):\n",
    "    for i in range(len(S)-1):\n",
    "        for j in range(i+1, len(S)):\n",
    "            if S[i] > S[j]:\n",
    "                S[i], S[j] = S[j], S[i]\n",
    "    return S\n",
    "exchange([0,10,7,11,5,13,8])\n"
   ]
  },
  {
   "cell_type": "markdown",
   "metadata": {},
   "source": [
    "1.4 Matrix Multiplication\n",
    "C = AXB, Cij = ai1b1j + ai2b2j"
   ]
  },
  {
   "cell_type": "code",
   "execution_count": 14,
   "metadata": {},
   "outputs": [
    {
     "data": {
      "text/plain": [
       "[[28, 38], [26, 36]]"
      ]
     },
     "execution_count": 14,
     "metadata": {},
     "output_type": "execute_result"
    }
   ],
   "source": [
    "def matrixmult(A, B):\n",
    "    n = len(A)\n",
    "    C = [[0] * n for _ in range(n)] #list compresion\n",
    "    for i in range(n):\n",
    "        for j in range(n):\n",
    "            for k in range(n):\n",
    "                C[i][j] += A[i][k] * B[k][j]\n",
    "    return C\n",
    "A = [[2,3],[4,1]]\n",
    "B = [[5,7],[6,8]]\n",
    "\n",
    "matrixmult(A, B)\n"
   ]
  }
 ],
 "metadata": {
  "interpreter": {
   "hash": "b58fc0fb6991a86bb9915d2b30f822b0a8753c85d40bbc5bd627831ffb8d9a0d"
  },
  "kernelspec": {
   "display_name": "Python 3.8.5 64-bit ('base': conda)",
   "name": "python3"
  },
  "language_info": {
   "codemirror_mode": {
    "name": "ipython",
    "version": 3
   },
   "file_extension": ".py",
   "mimetype": "text/x-python",
   "name": "python",
   "nbconvert_exporter": "python",
   "pygments_lexer": "ipython3",
   "version": "3.8.5"
  },
  "orig_nbformat": 4
 },
 "nbformat": 4,
 "nbformat_minor": 2
}
