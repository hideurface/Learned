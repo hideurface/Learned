{
 "cells": [
  {
   "cell_type": "code",
   "execution_count": null,
   "metadata": {},
   "outputs": [],
   "source": [
    "import pandas as pd\n",
    "import numpy as np\n",
    "import matplotlib.pyplot as plt\n",
    "import seaborn as sns\n",
    "import warnings\n",
    "warnings.filterwarnings('ignore', category=DeprecationWarning)"
   ]
  },
  {
   "cell_type": "code",
   "execution_count": null,
   "metadata": {},
   "outputs": [],
   "source": [
    "df = pd.read_csv('./data/bmw_pricing_challenge.csv')\n",
    "valid = df.price"
   ]
  },
  {
   "cell_type": "code",
   "execution_count": null,
   "metadata": {},
   "outputs": [
    {
     "data": {
      "text/plain": [
       "maker_key            object\n",
       "model_key            object\n",
       "mileage               int64\n",
       "engine_power          int64\n",
       "registration_date    object\n",
       "fuel                 object\n",
       "paint_color          object\n",
       "car_type             object\n",
       "feature_1              bool\n",
       "feature_2              bool\n",
       "feature_3              bool\n",
       "feature_4              bool\n",
       "feature_5              bool\n",
       "feature_6              bool\n",
       "feature_7              bool\n",
       "feature_8              bool\n",
       "price                 int64\n",
       "sold_at              object\n",
       "dtype: object"
      ]
     },
     "execution_count": 61,
     "metadata": {},
     "output_type": "execute_result"
    }
   ],
   "source": [
    "df.dtypes"
   ]
  },
  {
   "cell_type": "code",
   "execution_count": null,
   "metadata": {},
   "outputs": [
    {
     "data": {
      "text/plain": [
       "model_key     \n",
       "320               752\n",
       "520               633\n",
       "318               569\n",
       "X3                438\n",
       "116               358\n",
       "                 ... \n",
       "ActiveHybrid 5      1\n",
       "735                 1\n",
       "635                 1\n",
       "630                 1\n",
       "i8                  1\n",
       "Length: 75, dtype: int64"
      ]
     },
     "execution_count": 62,
     "metadata": {},
     "output_type": "execute_result"
    }
   ],
   "source": [
    "df[['model_key']].value_counts()"
   ]
  },
  {
   "cell_type": "code",
   "execution_count": null,
   "metadata": {},
   "outputs": [],
   "source": [
    "features = df[['maker_key','feature_1','feature_2','feature_3','feature_4','feature_5','feature_6','feature_7','feature_8','sold_at']]"
   ]
  },
  {
   "cell_type": "code",
   "execution_count": null,
   "metadata": {},
   "outputs": [],
   "source": [
    "df = df.drop(features, axis=1)"
   ]
  },
  {
   "cell_type": "code",
   "execution_count": null,
   "metadata": {},
   "outputs": [
    {
     "data": {
      "text/plain": [
       "0    2012-02-01\n",
       "1    2016-04-01\n",
       "2    2012-04-01\n",
       "Name: registration_date, dtype: object"
      ]
     },
     "execution_count": 65,
     "metadata": {},
     "output_type": "execute_result"
    }
   ],
   "source": [
    "df.loc[0:2, 'registration_date']"
   ]
  },
  {
   "cell_type": "code",
   "execution_count": null,
   "metadata": {},
   "outputs": [],
   "source": [
    "for i, col in enumerate(df.registration_date):\n",
    "    df.loc[i, 'registration_date'] = str(col[0:4])"
   ]
  },
  {
   "cell_type": "code",
   "execution_count": null,
   "metadata": {},
   "outputs": [
    {
     "data": {
      "text/html": [
       "<div>\n",
       "<style scoped>\n",
       "    .dataframe tbody tr th:only-of-type {\n",
       "        vertical-align: middle;\n",
       "    }\n",
       "\n",
       "    .dataframe tbody tr th {\n",
       "        vertical-align: top;\n",
       "    }\n",
       "\n",
       "    .dataframe thead th {\n",
       "        text-align: right;\n",
       "    }\n",
       "</style>\n",
       "<table border=\"1\" class=\"dataframe\">\n",
       "  <thead>\n",
       "    <tr style=\"text-align: right;\">\n",
       "      <th></th>\n",
       "      <th>model_key</th>\n",
       "      <th>mileage</th>\n",
       "      <th>engine_power</th>\n",
       "      <th>registration_date</th>\n",
       "      <th>fuel</th>\n",
       "      <th>paint_color</th>\n",
       "      <th>car_type</th>\n",
       "      <th>price</th>\n",
       "    </tr>\n",
       "  </thead>\n",
       "  <tbody>\n",
       "    <tr>\n",
       "      <th>0</th>\n",
       "      <td>118</td>\n",
       "      <td>140411</td>\n",
       "      <td>100</td>\n",
       "      <td>2012</td>\n",
       "      <td>diesel</td>\n",
       "      <td>black</td>\n",
       "      <td>convertible</td>\n",
       "      <td>11300</td>\n",
       "    </tr>\n",
       "    <tr>\n",
       "      <th>1</th>\n",
       "      <td>M4</td>\n",
       "      <td>13929</td>\n",
       "      <td>317</td>\n",
       "      <td>2016</td>\n",
       "      <td>petrol</td>\n",
       "      <td>grey</td>\n",
       "      <td>convertible</td>\n",
       "      <td>69700</td>\n",
       "    </tr>\n",
       "    <tr>\n",
       "      <th>2</th>\n",
       "      <td>320</td>\n",
       "      <td>183297</td>\n",
       "      <td>120</td>\n",
       "      <td>2012</td>\n",
       "      <td>diesel</td>\n",
       "      <td>white</td>\n",
       "      <td>convertible</td>\n",
       "      <td>10200</td>\n",
       "    </tr>\n",
       "    <tr>\n",
       "      <th>3</th>\n",
       "      <td>420</td>\n",
       "      <td>128035</td>\n",
       "      <td>135</td>\n",
       "      <td>2014</td>\n",
       "      <td>diesel</td>\n",
       "      <td>red</td>\n",
       "      <td>convertible</td>\n",
       "      <td>25100</td>\n",
       "    </tr>\n",
       "    <tr>\n",
       "      <th>4</th>\n",
       "      <td>425</td>\n",
       "      <td>97097</td>\n",
       "      <td>160</td>\n",
       "      <td>2014</td>\n",
       "      <td>diesel</td>\n",
       "      <td>silver</td>\n",
       "      <td>convertible</td>\n",
       "      <td>33400</td>\n",
       "    </tr>\n",
       "    <tr>\n",
       "      <th>...</th>\n",
       "      <td>...</td>\n",
       "      <td>...</td>\n",
       "      <td>...</td>\n",
       "      <td>...</td>\n",
       "      <td>...</td>\n",
       "      <td>...</td>\n",
       "      <td>...</td>\n",
       "      <td>...</td>\n",
       "    </tr>\n",
       "    <tr>\n",
       "      <th>4838</th>\n",
       "      <td>218 Gran Tourer</td>\n",
       "      <td>39743</td>\n",
       "      <td>110</td>\n",
       "      <td>2015</td>\n",
       "      <td>diesel</td>\n",
       "      <td>black</td>\n",
       "      <td>van</td>\n",
       "      <td>14600</td>\n",
       "    </tr>\n",
       "    <tr>\n",
       "      <th>4839</th>\n",
       "      <td>218 Active Tourer</td>\n",
       "      <td>49832</td>\n",
       "      <td>100</td>\n",
       "      <td>2015</td>\n",
       "      <td>diesel</td>\n",
       "      <td>grey</td>\n",
       "      <td>van</td>\n",
       "      <td>17500</td>\n",
       "    </tr>\n",
       "    <tr>\n",
       "      <th>4840</th>\n",
       "      <td>218 Gran Tourer</td>\n",
       "      <td>19633</td>\n",
       "      <td>110</td>\n",
       "      <td>2015</td>\n",
       "      <td>diesel</td>\n",
       "      <td>grey</td>\n",
       "      <td>van</td>\n",
       "      <td>17000</td>\n",
       "    </tr>\n",
       "    <tr>\n",
       "      <th>4841</th>\n",
       "      <td>218 Active Tourer</td>\n",
       "      <td>27920</td>\n",
       "      <td>110</td>\n",
       "      <td>2016</td>\n",
       "      <td>diesel</td>\n",
       "      <td>brown</td>\n",
       "      <td>van</td>\n",
       "      <td>22700</td>\n",
       "    </tr>\n",
       "    <tr>\n",
       "      <th>4842</th>\n",
       "      <td>525</td>\n",
       "      <td>195840</td>\n",
       "      <td>160</td>\n",
       "      <td>2013</td>\n",
       "      <td>diesel</td>\n",
       "      <td>grey</td>\n",
       "      <td>van</td>\n",
       "      <td>15500</td>\n",
       "    </tr>\n",
       "  </tbody>\n",
       "</table>\n",
       "<p>4843 rows × 8 columns</p>\n",
       "</div>"
      ],
      "text/plain": [
       "              model_key  mileage  engine_power registration_date    fuel  \\\n",
       "0                   118   140411           100              2012  diesel   \n",
       "1                    M4    13929           317              2016  petrol   \n",
       "2                   320   183297           120              2012  diesel   \n",
       "3                   420   128035           135              2014  diesel   \n",
       "4                   425    97097           160              2014  diesel   \n",
       "...                 ...      ...           ...               ...     ...   \n",
       "4838    218 Gran Tourer    39743           110              2015  diesel   \n",
       "4839  218 Active Tourer    49832           100              2015  diesel   \n",
       "4840    218 Gran Tourer    19633           110              2015  diesel   \n",
       "4841  218 Active Tourer    27920           110              2016  diesel   \n",
       "4842                525   195840           160              2013  diesel   \n",
       "\n",
       "     paint_color     car_type  price  \n",
       "0          black  convertible  11300  \n",
       "1           grey  convertible  69700  \n",
       "2          white  convertible  10200  \n",
       "3            red  convertible  25100  \n",
       "4         silver  convertible  33400  \n",
       "...          ...          ...    ...  \n",
       "4838       black          van  14600  \n",
       "4839        grey          van  17500  \n",
       "4840        grey          van  17000  \n",
       "4841       brown          van  22700  \n",
       "4842        grey          van  15500  \n",
       "\n",
       "[4843 rows x 8 columns]"
      ]
     },
     "execution_count": 67,
     "metadata": {},
     "output_type": "execute_result"
    }
   ],
   "source": [
    "df"
   ]
  },
  {
   "cell_type": "code",
   "execution_count": null,
   "metadata": {},
   "outputs": [],
   "source": [
    "df.rename(columns={'registration_date':'registration_year'}, inplace=True)\n",
    "df['registration_year']=df['registration_year'].astype('float64')"
   ]
  },
  {
   "cell_type": "code",
   "execution_count": null,
   "metadata": {},
   "outputs": [
    {
     "data": {
      "text/plain": [
       "model_key            0\n",
       "mileage              0\n",
       "engine_power         0\n",
       "registration_year    0\n",
       "fuel                 0\n",
       "paint_color          0\n",
       "car_type             0\n",
       "price                0\n",
       "dtype: int64"
      ]
     },
     "execution_count": 69,
     "metadata": {},
     "output_type": "execute_result"
    }
   ],
   "source": [
    "df.isna().sum()"
   ]
  },
  {
   "cell_type": "code",
   "execution_count": null,
   "metadata": {},
   "outputs": [
    {
     "data": {
      "text/html": [
       "<div>\n",
       "<style scoped>\n",
       "    .dataframe tbody tr th:only-of-type {\n",
       "        vertical-align: middle;\n",
       "    }\n",
       "\n",
       "    .dataframe tbody tr th {\n",
       "        vertical-align: top;\n",
       "    }\n",
       "\n",
       "    .dataframe thead th {\n",
       "        text-align: right;\n",
       "    }\n",
       "</style>\n",
       "<table border=\"1\" class=\"dataframe\">\n",
       "  <thead>\n",
       "    <tr style=\"text-align: right;\">\n",
       "      <th></th>\n",
       "      <th>model_key</th>\n",
       "      <th>mileage</th>\n",
       "      <th>engine_power</th>\n",
       "      <th>registration_year</th>\n",
       "      <th>fuel</th>\n",
       "      <th>paint_color</th>\n",
       "      <th>car_type</th>\n",
       "      <th>price</th>\n",
       "    </tr>\n",
       "  </thead>\n",
       "  <tbody>\n",
       "    <tr>\n",
       "      <th>0</th>\n",
       "      <td>118</td>\n",
       "      <td>140411</td>\n",
       "      <td>100</td>\n",
       "      <td>2012.0</td>\n",
       "      <td>diesel</td>\n",
       "      <td>black</td>\n",
       "      <td>convertible</td>\n",
       "      <td>11300</td>\n",
       "    </tr>\n",
       "    <tr>\n",
       "      <th>1</th>\n",
       "      <td>M4</td>\n",
       "      <td>13929</td>\n",
       "      <td>317</td>\n",
       "      <td>2016.0</td>\n",
       "      <td>petrol</td>\n",
       "      <td>grey</td>\n",
       "      <td>convertible</td>\n",
       "      <td>69700</td>\n",
       "    </tr>\n",
       "    <tr>\n",
       "      <th>2</th>\n",
       "      <td>320</td>\n",
       "      <td>183297</td>\n",
       "      <td>120</td>\n",
       "      <td>2012.0</td>\n",
       "      <td>diesel</td>\n",
       "      <td>white</td>\n",
       "      <td>convertible</td>\n",
       "      <td>10200</td>\n",
       "    </tr>\n",
       "    <tr>\n",
       "      <th>3</th>\n",
       "      <td>420</td>\n",
       "      <td>128035</td>\n",
       "      <td>135</td>\n",
       "      <td>2014.0</td>\n",
       "      <td>diesel</td>\n",
       "      <td>red</td>\n",
       "      <td>convertible</td>\n",
       "      <td>25100</td>\n",
       "    </tr>\n",
       "    <tr>\n",
       "      <th>4</th>\n",
       "      <td>425</td>\n",
       "      <td>97097</td>\n",
       "      <td>160</td>\n",
       "      <td>2014.0</td>\n",
       "      <td>diesel</td>\n",
       "      <td>silver</td>\n",
       "      <td>convertible</td>\n",
       "      <td>33400</td>\n",
       "    </tr>\n",
       "    <tr>\n",
       "      <th>...</th>\n",
       "      <td>...</td>\n",
       "      <td>...</td>\n",
       "      <td>...</td>\n",
       "      <td>...</td>\n",
       "      <td>...</td>\n",
       "      <td>...</td>\n",
       "      <td>...</td>\n",
       "      <td>...</td>\n",
       "    </tr>\n",
       "    <tr>\n",
       "      <th>4838</th>\n",
       "      <td>218 Gran Tourer</td>\n",
       "      <td>39743</td>\n",
       "      <td>110</td>\n",
       "      <td>2015.0</td>\n",
       "      <td>diesel</td>\n",
       "      <td>black</td>\n",
       "      <td>van</td>\n",
       "      <td>14600</td>\n",
       "    </tr>\n",
       "    <tr>\n",
       "      <th>4839</th>\n",
       "      <td>218 Active Tourer</td>\n",
       "      <td>49832</td>\n",
       "      <td>100</td>\n",
       "      <td>2015.0</td>\n",
       "      <td>diesel</td>\n",
       "      <td>grey</td>\n",
       "      <td>van</td>\n",
       "      <td>17500</td>\n",
       "    </tr>\n",
       "    <tr>\n",
       "      <th>4840</th>\n",
       "      <td>218 Gran Tourer</td>\n",
       "      <td>19633</td>\n",
       "      <td>110</td>\n",
       "      <td>2015.0</td>\n",
       "      <td>diesel</td>\n",
       "      <td>grey</td>\n",
       "      <td>van</td>\n",
       "      <td>17000</td>\n",
       "    </tr>\n",
       "    <tr>\n",
       "      <th>4841</th>\n",
       "      <td>218 Active Tourer</td>\n",
       "      <td>27920</td>\n",
       "      <td>110</td>\n",
       "      <td>2016.0</td>\n",
       "      <td>diesel</td>\n",
       "      <td>brown</td>\n",
       "      <td>van</td>\n",
       "      <td>22700</td>\n",
       "    </tr>\n",
       "    <tr>\n",
       "      <th>4842</th>\n",
       "      <td>525</td>\n",
       "      <td>195840</td>\n",
       "      <td>160</td>\n",
       "      <td>2013.0</td>\n",
       "      <td>diesel</td>\n",
       "      <td>grey</td>\n",
       "      <td>van</td>\n",
       "      <td>15500</td>\n",
       "    </tr>\n",
       "  </tbody>\n",
       "</table>\n",
       "<p>4843 rows × 8 columns</p>\n",
       "</div>"
      ],
      "text/plain": [
       "              model_key  mileage  engine_power  registration_year    fuel  \\\n",
       "0                   118   140411           100             2012.0  diesel   \n",
       "1                    M4    13929           317             2016.0  petrol   \n",
       "2                   320   183297           120             2012.0  diesel   \n",
       "3                   420   128035           135             2014.0  diesel   \n",
       "4                   425    97097           160             2014.0  diesel   \n",
       "...                 ...      ...           ...                ...     ...   \n",
       "4838    218 Gran Tourer    39743           110             2015.0  diesel   \n",
       "4839  218 Active Tourer    49832           100             2015.0  diesel   \n",
       "4840    218 Gran Tourer    19633           110             2015.0  diesel   \n",
       "4841  218 Active Tourer    27920           110             2016.0  diesel   \n",
       "4842                525   195840           160             2013.0  diesel   \n",
       "\n",
       "     paint_color     car_type  price  \n",
       "0          black  convertible  11300  \n",
       "1           grey  convertible  69700  \n",
       "2          white  convertible  10200  \n",
       "3            red  convertible  25100  \n",
       "4         silver  convertible  33400  \n",
       "...          ...          ...    ...  \n",
       "4838       black          van  14600  \n",
       "4839        grey          van  17500  \n",
       "4840        grey          van  17000  \n",
       "4841       brown          van  22700  \n",
       "4842        grey          van  15500  \n",
       "\n",
       "[4843 rows x 8 columns]"
      ]
     },
     "execution_count": 70,
     "metadata": {},
     "output_type": "execute_result"
    }
   ],
   "source": [
    "df"
   ]
  },
  {
   "cell_type": "code",
   "execution_count": null,
   "metadata": {},
   "outputs": [
    {
     "data": {
      "text/plain": [
       "estate         1606\n",
       "sedan          1168\n",
       "suv            1058\n",
       "hatchback       699\n",
       "subcompact      117\n",
       "coupe           104\n",
       "convertible      47\n",
       "van              44\n",
       "Name: car_type, dtype: int64"
      ]
     },
     "execution_count": 71,
     "metadata": {},
     "output_type": "execute_result"
    }
   ],
   "source": [
    "df.car_type.value_counts()"
   ]
  },
  {
   "cell_type": "code",
   "execution_count": null,
   "metadata": {},
   "outputs": [
    {
     "data": {
      "text/plain": [
       "array(['118', 'M4', '320', '420', '425', '335', '325', 'Z4', '120', '220',\n",
       "       '650', '135', '218', '318', '430', 'M3', '330', '225', 'M235',\n",
       "       '316', '435', '640', '640 Gran Coupé', '435 Gran Coupé', 'i8',\n",
       "       '630', '430 Gran Coupé', '635', '520', '525', '530', '535',\n",
       "       '320 Gran Turismo', '518', '116', '328', '523', 'X3', 'M550',\n",
       "       '528', '325 Gran Turismo', '125', '318 Gran Turismo',\n",
       "       '420 Gran Coupé', 'i3', '114', '520 Gran Turismo',\n",
       "       '530 Gran Turismo', 'M135', '418 Gran Coupé', '330 Gran Turismo',\n",
       "       '335 Gran Turismo', '730', '123', '535 Gran Turismo', '740', '750',\n",
       "       'ActiveHybrid 5', '735', 'M5', 'X5', 'X1', 'X4', 'X6', 'X6 M',\n",
       "       'X5 M', 'X5 M50', '218 Active Tourer', '218 Gran Tourer', '216',\n",
       "       '220 Active Tourer', '216 Gran Tourer', '216 Active Tourer',\n",
       "       '225 Active Tourer', '214 Gran Tourer'], dtype=object)"
      ]
     },
     "execution_count": 72,
     "metadata": {},
     "output_type": "execute_result"
    }
   ],
   "source": [
    "model = df['model_key'].copy()\n",
    "df = df.drop('model_key', axis=1)\n",
    "model.unique()"
   ]
  },
  {
   "cell_type": "code",
   "execution_count": null,
   "metadata": {},
   "outputs": [],
   "source": [
    "# # Vehicle series simplification\n",
    "def series_simple(c):\n",
    "    for i in model:\n",
    "        if i[0] == str(c):\n",
    "            model[(model == i)] = '{} Series'.format(i[0])\n",
    "        elif i[1] == str(c):\n",
    "            model[(model == i)] = '{} Series'.format(i[0])\n",
    "\n",
    "for i in range(1,8):\n",
    "    series_simple(i)\n",
    "\n",
    "model[(model == 'ActiveHybrid 5')] = '5 Series'\n",
    "model[(model == 'i8')] = 'i Series'"
   ]
  },
  {
   "cell_type": "code",
   "execution_count": null,
   "metadata": {},
   "outputs": [],
   "source": [
    "all_df = pd.concat([model, df], axis=1)"
   ]
  },
  {
   "cell_type": "code",
   "execution_count": null,
   "metadata": {},
   "outputs": [
    {
     "data": {
      "text/plain": [
       "count    4.843000e+03\n",
       "mean     1.409628e+05\n",
       "std      6.019674e+04\n",
       "min     -6.400000e+01\n",
       "25%      1.029135e+05\n",
       "50%      1.410800e+05\n",
       "75%      1.751955e+05\n",
       "max      1.000376e+06\n",
       "Name: mileage, dtype: float64"
      ]
     },
     "execution_count": 75,
     "metadata": {},
     "output_type": "execute_result"
    }
   ],
   "source": [
    "all_df.mileage.describe()"
   ]
  },
  {
   "cell_type": "code",
   "execution_count": null,
   "metadata": {},
   "outputs": [],
   "source": [
    "all_df[(all_df['mileage'] < 0)] = 0"
   ]
  },
  {
   "cell_type": "code",
   "execution_count": null,
   "metadata": {},
   "outputs": [
    {
     "data": {
      "text/plain": [
       "count      4843.000000\n",
       "mean      15812.595499\n",
       "std        9183.793077\n",
       "min           0.000000\n",
       "25%       10800.000000\n",
       "50%       14200.000000\n",
       "75%       18600.000000\n",
       "max      178500.000000\n",
       "Name: price, dtype: float64"
      ]
     },
     "execution_count": 77,
     "metadata": {},
     "output_type": "execute_result"
    }
   ],
   "source": [
    "all_df.price.describe()"
   ]
  },
  {
   "cell_type": "code",
   "execution_count": null,
   "metadata": {},
   "outputs": [
    {
     "data": {
      "text/html": [
       "<div>\n",
       "<style scoped>\n",
       "    .dataframe tbody tr th:only-of-type {\n",
       "        vertical-align: middle;\n",
       "    }\n",
       "\n",
       "    .dataframe tbody tr th {\n",
       "        vertical-align: top;\n",
       "    }\n",
       "\n",
       "    .dataframe thead th {\n",
       "        text-align: right;\n",
       "    }\n",
       "</style>\n",
       "<table border=\"1\" class=\"dataframe\">\n",
       "  <thead>\n",
       "    <tr style=\"text-align: right;\">\n",
       "      <th></th>\n",
       "      <th>model_key</th>\n",
       "      <th>mileage</th>\n",
       "      <th>engine_power</th>\n",
       "      <th>registration_year</th>\n",
       "      <th>fuel</th>\n",
       "      <th>paint_color</th>\n",
       "      <th>car_type</th>\n",
       "      <th>price</th>\n",
       "    </tr>\n",
       "  </thead>\n",
       "  <tbody>\n",
       "    <tr>\n",
       "      <th>2938</th>\n",
       "      <td>0</td>\n",
       "      <td>0</td>\n",
       "      <td>0</td>\n",
       "      <td>0.0</td>\n",
       "      <td>0</td>\n",
       "      <td>0</td>\n",
       "      <td>0</td>\n",
       "      <td>0</td>\n",
       "    </tr>\n",
       "  </tbody>\n",
       "</table>\n",
       "</div>"
      ],
      "text/plain": [
       "     model_key  mileage  engine_power  registration_year fuel paint_color  \\\n",
       "2938         0        0             0                0.0    0           0   \n",
       "\n",
       "     car_type  price  \n",
       "2938        0      0  "
      ]
     },
     "execution_count": 78,
     "metadata": {},
     "output_type": "execute_result"
    }
   ],
   "source": [
    "all_df.query('price == 0')"
   ]
  },
  {
   "cell_type": "code",
   "execution_count": null,
   "metadata": {},
   "outputs": [
    {
     "data": {
      "text/html": [
       "<div>\n",
       "<style scoped>\n",
       "    .dataframe tbody tr th:only-of-type {\n",
       "        vertical-align: middle;\n",
       "    }\n",
       "\n",
       "    .dataframe tbody tr th {\n",
       "        vertical-align: top;\n",
       "    }\n",
       "\n",
       "    .dataframe thead th {\n",
       "        text-align: right;\n",
       "    }\n",
       "</style>\n",
       "<table border=\"1\" class=\"dataframe\">\n",
       "  <thead>\n",
       "    <tr style=\"text-align: right;\">\n",
       "      <th></th>\n",
       "      <th>model_key</th>\n",
       "      <th>mileage</th>\n",
       "      <th>engine_power</th>\n",
       "      <th>registration_year</th>\n",
       "      <th>fuel</th>\n",
       "      <th>paint_color</th>\n",
       "      <th>car_type</th>\n",
       "      <th>price</th>\n",
       "    </tr>\n",
       "  </thead>\n",
       "  <tbody>\n",
       "    <tr>\n",
       "      <th>2938</th>\n",
       "      <td>0</td>\n",
       "      <td>0</td>\n",
       "      <td>0</td>\n",
       "      <td>0.0</td>\n",
       "      <td>0</td>\n",
       "      <td>0</td>\n",
       "      <td>0</td>\n",
       "      <td>0</td>\n",
       "    </tr>\n",
       "    <tr>\n",
       "      <th>4356</th>\n",
       "      <td>X Series</td>\n",
       "      <td>79685</td>\n",
       "      <td>190</td>\n",
       "      <td>2014.0</td>\n",
       "      <td>diesel</td>\n",
       "      <td>black</td>\n",
       "      <td>suv</td>\n",
       "      <td>100</td>\n",
       "    </tr>\n",
       "    <tr>\n",
       "      <th>1255</th>\n",
       "      <td>3 Series</td>\n",
       "      <td>170381</td>\n",
       "      <td>135</td>\n",
       "      <td>2013.0</td>\n",
       "      <td>diesel</td>\n",
       "      <td>silver</td>\n",
       "      <td>estate</td>\n",
       "      <td>100</td>\n",
       "    </tr>\n",
       "    <tr>\n",
       "      <th>1832</th>\n",
       "      <td>1 Series</td>\n",
       "      <td>174524</td>\n",
       "      <td>85</td>\n",
       "      <td>2014.0</td>\n",
       "      <td>diesel</td>\n",
       "      <td>blue</td>\n",
       "      <td>hatchback</td>\n",
       "      <td>100</td>\n",
       "    </tr>\n",
       "    <tr>\n",
       "      <th>879</th>\n",
       "      <td>3 Series</td>\n",
       "      <td>134156</td>\n",
       "      <td>105</td>\n",
       "      <td>2014.0</td>\n",
       "      <td>diesel</td>\n",
       "      <td>grey</td>\n",
       "      <td>estate</td>\n",
       "      <td>100</td>\n",
       "    </tr>\n",
       "    <tr>\n",
       "      <th>...</th>\n",
       "      <td>...</td>\n",
       "      <td>...</td>\n",
       "      <td>...</td>\n",
       "      <td>...</td>\n",
       "      <td>...</td>\n",
       "      <td>...</td>\n",
       "      <td>...</td>\n",
       "      <td>...</td>\n",
       "    </tr>\n",
       "    <tr>\n",
       "      <th>4731</th>\n",
       "      <td>X Series</td>\n",
       "      <td>4530</td>\n",
       "      <td>230</td>\n",
       "      <td>2016.0</td>\n",
       "      <td>diesel</td>\n",
       "      <td>silver</td>\n",
       "      <td>suv</td>\n",
       "      <td>73100</td>\n",
       "    </tr>\n",
       "    <tr>\n",
       "      <th>4146</th>\n",
       "      <td>X Series</td>\n",
       "      <td>2970</td>\n",
       "      <td>423</td>\n",
       "      <td>2016.0</td>\n",
       "      <td>petrol</td>\n",
       "      <td>red</td>\n",
       "      <td>suv</td>\n",
       "      <td>82400</td>\n",
       "    </tr>\n",
       "    <tr>\n",
       "      <th>90</th>\n",
       "      <td>i Series</td>\n",
       "      <td>12402</td>\n",
       "      <td>170</td>\n",
       "      <td>2016.0</td>\n",
       "      <td>hybrid_petrol</td>\n",
       "      <td>grey</td>\n",
       "      <td>coupe</td>\n",
       "      <td>95200</td>\n",
       "    </tr>\n",
       "    <tr>\n",
       "      <th>4684</th>\n",
       "      <td>X Series</td>\n",
       "      <td>103222</td>\n",
       "      <td>140</td>\n",
       "      <td>2014.0</td>\n",
       "      <td>diesel</td>\n",
       "      <td>grey</td>\n",
       "      <td>suv</td>\n",
       "      <td>142800</td>\n",
       "    </tr>\n",
       "    <tr>\n",
       "      <th>4753</th>\n",
       "      <td>X Series</td>\n",
       "      <td>72515</td>\n",
       "      <td>135</td>\n",
       "      <td>2013.0</td>\n",
       "      <td>diesel</td>\n",
       "      <td>blue</td>\n",
       "      <td>suv</td>\n",
       "      <td>178500</td>\n",
       "    </tr>\n",
       "  </tbody>\n",
       "</table>\n",
       "<p>4843 rows × 8 columns</p>\n",
       "</div>"
      ],
      "text/plain": [
       "     model_key  mileage  engine_power  registration_year           fuel  \\\n",
       "2938         0        0             0                0.0              0   \n",
       "4356  X Series    79685           190             2014.0         diesel   \n",
       "1255  3 Series   170381           135             2013.0         diesel   \n",
       "1832  1 Series   174524            85             2014.0         diesel   \n",
       "879   3 Series   134156           105             2014.0         diesel   \n",
       "...        ...      ...           ...                ...            ...   \n",
       "4731  X Series     4530           230             2016.0         diesel   \n",
       "4146  X Series     2970           423             2016.0         petrol   \n",
       "90    i Series    12402           170             2016.0  hybrid_petrol   \n",
       "4684  X Series   103222           140             2014.0         diesel   \n",
       "4753  X Series    72515           135             2013.0         diesel   \n",
       "\n",
       "     paint_color   car_type   price  \n",
       "2938           0          0       0  \n",
       "4356       black        suv     100  \n",
       "1255      silver     estate     100  \n",
       "1832        blue  hatchback     100  \n",
       "879         grey     estate     100  \n",
       "...          ...        ...     ...  \n",
       "4731      silver        suv   73100  \n",
       "4146         red        suv   82400  \n",
       "90          grey      coupe   95200  \n",
       "4684        grey        suv  142800  \n",
       "4753        blue        suv  178500  \n",
       "\n",
       "[4843 rows x 8 columns]"
      ]
     },
     "execution_count": 79,
     "metadata": {},
     "output_type": "execute_result"
    }
   ],
   "source": [
    "all_df.sort_values('price')\n"
   ]
  },
  {
   "cell_type": "code",
   "execution_count": null,
   "metadata": {},
   "outputs": [],
   "source": [
    "all_df = all_df.replace(0, np.nan)\n",
    "all_df.dropna(axis=0, inplace=True)"
   ]
  },
  {
   "cell_type": "code",
   "execution_count": null,
   "metadata": {},
   "outputs": [
    {
     "data": {
      "text/html": [
       "<div>\n",
       "<style scoped>\n",
       "    .dataframe tbody tr th:only-of-type {\n",
       "        vertical-align: middle;\n",
       "    }\n",
       "\n",
       "    .dataframe tbody tr th {\n",
       "        vertical-align: top;\n",
       "    }\n",
       "\n",
       "    .dataframe thead th {\n",
       "        text-align: right;\n",
       "    }\n",
       "</style>\n",
       "<table border=\"1\" class=\"dataframe\">\n",
       "  <thead>\n",
       "    <tr style=\"text-align: right;\">\n",
       "      <th></th>\n",
       "      <th>model_key</th>\n",
       "      <th>mileage</th>\n",
       "      <th>engine_power</th>\n",
       "      <th>registration_year</th>\n",
       "      <th>fuel</th>\n",
       "      <th>paint_color</th>\n",
       "      <th>car_type</th>\n",
       "      <th>price</th>\n",
       "    </tr>\n",
       "  </thead>\n",
       "  <tbody>\n",
       "    <tr>\n",
       "      <th>565</th>\n",
       "      <td>3 Series</td>\n",
       "      <td>179358.0</td>\n",
       "      <td>120.0</td>\n",
       "      <td>2013.0</td>\n",
       "      <td>diesel</td>\n",
       "      <td>black</td>\n",
       "      <td>estate</td>\n",
       "      <td>100.0</td>\n",
       "    </tr>\n",
       "    <tr>\n",
       "      <th>630</th>\n",
       "      <td>3 Series</td>\n",
       "      <td>147558.0</td>\n",
       "      <td>105.0</td>\n",
       "      <td>2014.0</td>\n",
       "      <td>diesel</td>\n",
       "      <td>white</td>\n",
       "      <td>estate</td>\n",
       "      <td>100.0</td>\n",
       "    </tr>\n",
       "    <tr>\n",
       "      <th>879</th>\n",
       "      <td>3 Series</td>\n",
       "      <td>134156.0</td>\n",
       "      <td>105.0</td>\n",
       "      <td>2014.0</td>\n",
       "      <td>diesel</td>\n",
       "      <td>grey</td>\n",
       "      <td>estate</td>\n",
       "      <td>100.0</td>\n",
       "    </tr>\n",
       "    <tr>\n",
       "      <th>1255</th>\n",
       "      <td>3 Series</td>\n",
       "      <td>170381.0</td>\n",
       "      <td>135.0</td>\n",
       "      <td>2013.0</td>\n",
       "      <td>diesel</td>\n",
       "      <td>silver</td>\n",
       "      <td>estate</td>\n",
       "      <td>100.0</td>\n",
       "    </tr>\n",
       "    <tr>\n",
       "      <th>1513</th>\n",
       "      <td>5 Series</td>\n",
       "      <td>358332.0</td>\n",
       "      <td>100.0</td>\n",
       "      <td>2000.0</td>\n",
       "      <td>diesel</td>\n",
       "      <td>blue</td>\n",
       "      <td>estate</td>\n",
       "      <td>400.0</td>\n",
       "    </tr>\n",
       "    <tr>\n",
       "      <th>1558</th>\n",
       "      <td>5 Series</td>\n",
       "      <td>358333.0</td>\n",
       "      <td>100.0</td>\n",
       "      <td>2000.0</td>\n",
       "      <td>diesel</td>\n",
       "      <td>blue</td>\n",
       "      <td>estate</td>\n",
       "      <td>400.0</td>\n",
       "    </tr>\n",
       "    <tr>\n",
       "      <th>1832</th>\n",
       "      <td>1 Series</td>\n",
       "      <td>174524.0</td>\n",
       "      <td>85.0</td>\n",
       "      <td>2014.0</td>\n",
       "      <td>diesel</td>\n",
       "      <td>blue</td>\n",
       "      <td>hatchback</td>\n",
       "      <td>100.0</td>\n",
       "    </tr>\n",
       "    <tr>\n",
       "      <th>2473</th>\n",
       "      <td>5 Series</td>\n",
       "      <td>230578.0</td>\n",
       "      <td>85.0</td>\n",
       "      <td>1997.0</td>\n",
       "      <td>diesel</td>\n",
       "      <td>black</td>\n",
       "      <td>sedan</td>\n",
       "      <td>200.0</td>\n",
       "    </tr>\n",
       "    <tr>\n",
       "      <th>2574</th>\n",
       "      <td>5 Series</td>\n",
       "      <td>229880.0</td>\n",
       "      <td>85.0</td>\n",
       "      <td>1997.0</td>\n",
       "      <td>diesel</td>\n",
       "      <td>black</td>\n",
       "      <td>sedan</td>\n",
       "      <td>200.0</td>\n",
       "    </tr>\n",
       "    <tr>\n",
       "      <th>2611</th>\n",
       "      <td>5 Series</td>\n",
       "      <td>230264.0</td>\n",
       "      <td>85.0</td>\n",
       "      <td>1997.0</td>\n",
       "      <td>diesel</td>\n",
       "      <td>black</td>\n",
       "      <td>sedan</td>\n",
       "      <td>200.0</td>\n",
       "    </tr>\n",
       "    <tr>\n",
       "      <th>2829</th>\n",
       "      <td>5 Series</td>\n",
       "      <td>439060.0</td>\n",
       "      <td>105.0</td>\n",
       "      <td>1996.0</td>\n",
       "      <td>diesel</td>\n",
       "      <td>silver</td>\n",
       "      <td>sedan</td>\n",
       "      <td>100.0</td>\n",
       "    </tr>\n",
       "    <tr>\n",
       "      <th>3062</th>\n",
       "      <td>3 Series</td>\n",
       "      <td>98097.0</td>\n",
       "      <td>85.0</td>\n",
       "      <td>1994.0</td>\n",
       "      <td>petrol</td>\n",
       "      <td>blue</td>\n",
       "      <td>sedan</td>\n",
       "      <td>400.0</td>\n",
       "    </tr>\n",
       "    <tr>\n",
       "      <th>3449</th>\n",
       "      <td>3 Series</td>\n",
       "      <td>184233.0</td>\n",
       "      <td>77.0</td>\n",
       "      <td>1999.0</td>\n",
       "      <td>petrol</td>\n",
       "      <td>grey</td>\n",
       "      <td>sedan</td>\n",
       "      <td>400.0</td>\n",
       "    </tr>\n",
       "    <tr>\n",
       "      <th>3575</th>\n",
       "      <td>3 Series</td>\n",
       "      <td>359661.0</td>\n",
       "      <td>75.0</td>\n",
       "      <td>1997.0</td>\n",
       "      <td>petrol</td>\n",
       "      <td>grey</td>\n",
       "      <td>sedan</td>\n",
       "      <td>400.0</td>\n",
       "    </tr>\n",
       "    <tr>\n",
       "      <th>4356</th>\n",
       "      <td>X Series</td>\n",
       "      <td>79685.0</td>\n",
       "      <td>190.0</td>\n",
       "      <td>2014.0</td>\n",
       "      <td>diesel</td>\n",
       "      <td>black</td>\n",
       "      <td>suv</td>\n",
       "      <td>100.0</td>\n",
       "    </tr>\n",
       "  </tbody>\n",
       "</table>\n",
       "</div>"
      ],
      "text/plain": [
       "     model_key   mileage  engine_power  registration_year    fuel paint_color  \\\n",
       "565   3 Series  179358.0         120.0             2013.0  diesel       black   \n",
       "630   3 Series  147558.0         105.0             2014.0  diesel       white   \n",
       "879   3 Series  134156.0         105.0             2014.0  diesel        grey   \n",
       "1255  3 Series  170381.0         135.0             2013.0  diesel      silver   \n",
       "1513  5 Series  358332.0         100.0             2000.0  diesel        blue   \n",
       "1558  5 Series  358333.0         100.0             2000.0  diesel        blue   \n",
       "1832  1 Series  174524.0          85.0             2014.0  diesel        blue   \n",
       "2473  5 Series  230578.0          85.0             1997.0  diesel       black   \n",
       "2574  5 Series  229880.0          85.0             1997.0  diesel       black   \n",
       "2611  5 Series  230264.0          85.0             1997.0  diesel       black   \n",
       "2829  5 Series  439060.0         105.0             1996.0  diesel      silver   \n",
       "3062  3 Series   98097.0          85.0             1994.0  petrol        blue   \n",
       "3449  3 Series  184233.0          77.0             1999.0  petrol        grey   \n",
       "3575  3 Series  359661.0          75.0             1997.0  petrol        grey   \n",
       "4356  X Series   79685.0         190.0             2014.0  diesel       black   \n",
       "\n",
       "       car_type  price  \n",
       "565      estate  100.0  \n",
       "630      estate  100.0  \n",
       "879      estate  100.0  \n",
       "1255     estate  100.0  \n",
       "1513     estate  400.0  \n",
       "1558     estate  400.0  \n",
       "1832  hatchback  100.0  \n",
       "2473      sedan  200.0  \n",
       "2574      sedan  200.0  \n",
       "2611      sedan  200.0  \n",
       "2829      sedan  100.0  \n",
       "3062      sedan  400.0  \n",
       "3449      sedan  400.0  \n",
       "3575      sedan  400.0  \n",
       "4356        suv  100.0  "
      ]
     },
     "execution_count": 81,
     "metadata": {},
     "output_type": "execute_result"
    }
   ],
   "source": [
    "all_df.query('price < 500')"
   ]
  },
  {
   "cell_type": "code",
   "execution_count": null,
   "metadata": {},
   "outputs": [],
   "source": [
    "# indexNames = df[ (df['Price'] >= 30) & (all_df['Price'] <= 70) ].index\n",
    "# df.drop(indexNames , inplace=True)"
   ]
  },
  {
   "cell_type": "code",
   "execution_count": null,
   "metadata": {},
   "outputs": [],
   "source": [
    "gp_paint_color = all_df.groupby('paint_color').mean()['price']\n",
    "gp_hp = all_df.groupby('engine_power').mean()['price']\n",
    "gp_ry = all_df.groupby('registration_year').mean()['price']\n",
    "gp_ct = all_df.groupby('car_type').mean()['price']"
   ]
  },
  {
   "cell_type": "code",
   "execution_count": null,
   "metadata": {},
   "outputs": [
    {
     "data": {
      "text/plain": [
       "paint_color\n",
       "orange    18866.666667\n",
       "white     17338.919926\n",
       "red       16500.000000\n",
       "black     16137.806373\n",
       "beige     15817.073171\n",
       "grey      15595.744681\n",
       "brown     15367.741935\n",
       "blue      15114.929577\n",
       "silver    14816.109422\n",
       "green      7200.000000\n",
       "Name: price, dtype: float64"
      ]
     },
     "execution_count": 84,
     "metadata": {},
     "output_type": "execute_result"
    }
   ],
   "source": [
    "gp_paint_color.sort_values(ascending=False)"
   ]
  },
  {
   "cell_type": "code",
   "execution_count": null,
   "metadata": {},
   "outputs": [
    {
     "data": {
      "text/plain": [
       "engine_power\n",
       "423.0    82400.000000\n",
       "195.0    57433.333333\n",
       "317.0    56725.000000\n",
       "235.0    54785.714286\n",
       "412.0    41600.000000\n",
       "280.0    41237.500000\n",
       "250.0    38900.000000\n",
       "183.0    35150.000000\n",
       "309.0    34825.000000\n",
       "230.0    33794.117647\n",
       "233.0    32700.000000\n",
       "190.0    27171.473354\n",
       "239.0    25700.000000\n",
       "225.0    25267.346939\n",
       "240.0    24900.000000\n",
       "140.0    24371.084337\n",
       "300.0    22000.000000\n",
       "192.0    21750.000000\n",
       "180.0    21087.096774\n",
       "160.0    20523.529412\n",
       "220.0    19860.000000\n",
       "155.0    18164.646465\n",
       "25.0     17900.000000\n",
       "80.0     17350.000000\n",
       "142.0    16666.666667\n",
       "135.0    16582.426304\n",
       "210.0    16476.190476\n",
       "170.0    15028.571429\n",
       "75.0     14844.444444\n",
       "112.0    14800.000000\n",
       "200.0    14666.666667\n",
       "121.0    14600.000000\n",
       "189.0    14550.000000\n",
       "224.0    14000.000000\n",
       "107.0    13933.333333\n",
       "120.0    13725.222930\n",
       "137.0    13678.947368\n",
       "150.0    13167.441860\n",
       "122.0    12653.333333\n",
       "173.0    12372.000000\n",
       "105.0    12359.645233\n",
       "119.0    12300.000000\n",
       "236.0    12100.000000\n",
       "100.0    11902.456140\n",
       "110.0    11308.450704\n",
       "261.0    11300.000000\n",
       "70.0     11127.272727\n",
       "125.0    10512.500000\n",
       "127.0    10280.000000\n",
       "87.0     10200.000000\n",
       "85.0      9954.675119\n",
       "145.0     9677.777778\n",
       "130.0     9144.680851\n",
       "101.0     8150.000000\n",
       "270.0     8000.000000\n",
       "95.0      4300.000000\n",
       "90.0      4290.000000\n",
       "141.0     3800.000000\n",
       "66.0      1150.000000\n",
       "77.0       633.333333\n",
       "Name: price, dtype: float64"
      ]
     },
     "execution_count": 85,
     "metadata": {},
     "output_type": "execute_result"
    }
   ],
   "source": [
    "gp_hp.sort_values(ascending=False)"
   ]
  },
  {
   "cell_type": "code",
   "execution_count": null,
   "metadata": {},
   "outputs": [
    {
     "data": {
      "text/plain": [
       "<AxesSubplot:xlabel='paint_color', ylabel='price'>"
      ]
     },
     "execution_count": 86,
     "metadata": {},
     "output_type": "execute_result"
    },
    {
     "data": {
      "image/png": "[encoded data removed]",
      "text/plain": [
       "<Figure size 432x288 with 1 Axes>"
      ]
     },
     "metadata": {
      "needs_background": "light"
     },
     "output_type": "display_data"
    }
   ],
   "source": [
    "sns.style=('whitegrid')\n",
    "sns.barplot(data=all_df, x='paint_color', y='price')"
   ]
  },
  {
   "cell_type": "code",
   "execution_count": null,
   "metadata": {},
   "outputs": [
    {
     "data": {
      "text/plain": [
       "<AxesSubplot:xlabel='engine_power', ylabel='price'>"
      ]
     },
     "execution_count": 87,
     "metadata": {},
     "output_type": "execute_result"
    },
    {
     "data": {
      "image/png": "[encoded data removed]",
      "text/plain": [
       "<Figure size 432x288 with 1 Axes>"
      ]
     },
     "metadata": {
      "needs_background": "light"
     },
     "output_type": "display_data"
    }
   ],
   "source": [
    "sns.stripplot(data=all_df, x='engine_power', y='price')"
   ]
  },
  {
   "cell_type": "code",
   "execution_count": null,
   "metadata": {},
   "outputs": [],
   "source": [
    "# sns.swarmplot(data=all_df, x='car_type', y='price')"
   ]
  },
  {
   "cell_type": "code",
   "execution_count": null,
   "metadata": {},
   "outputs": [
    {
     "data": {
      "text/plain": [
       "<AxesSubplot:xlabel='car_type', ylabel='price'>"
      ]
     },
     "execution_count": 89,
     "metadata": {},
     "output_type": "execute_result"
    },
    {
     "data": {
      "image/png": "[encoded data removed]",
      "text/plain": [
       "<Figure size 432x288 with 1 Axes>"
      ]
     },
     "metadata": {
      "needs_background": "light"
     },
     "output_type": "display_data"
    }
   ],
   "source": [
    "sns.pointplot(data=all_df, x='car_type', y='price')"
   ]
  },
  {
   "cell_type": "code",
   "execution_count": null,
   "metadata": {},
   "outputs": [
    {
     "data": {
      "text/plain": [
       "<AxesSubplot:xlabel='car_type', ylabel='price'>"
      ]
     },
     "execution_count": 90,
     "metadata": {},
     "output_type": "execute_result"
    },
    {
     "data": {
      "image/png": "[encoded data removed]",
      "text/plain": [
       "<Figure size 432x288 with 1 Axes>"
      ]
     },
     "metadata": {
      "needs_background": "light"
     },
     "output_type": "display_data"
    }
   ],
   "source": [
    "sns.boxplot(data=all_df, x='car_type', y='price')"
   ]
  },
  {
   "cell_type": "code",
   "execution_count": null,
   "metadata": {},
   "outputs": [
    {
     "data": {
      "text/plain": [
       "<AxesSubplot:xlabel='car_type', ylabel='price'>"
      ]
     },
     "execution_count": 91,
     "metadata": {},
     "output_type": "execute_result"
    },
    {
     "data": {
      "image/png": "[encoded data removed]",
      "text/plain": [
       "<Figure size 432x288 with 1 Axes>"
      ]
     },
     "metadata": {
      "needs_background": "light"
     },
     "output_type": "display_data"
    }
   ],
   "source": [
    "sns.violinplot(data=all_df, x='car_type', y='price')"
   ]
  },
  {
   "cell_type": "code",
   "execution_count": null,
   "metadata": {},
   "outputs": [],
   "source": [
    "# from sklearn.preprocessing import SimpleImpute\n",
    "from sklearn.model_selection import train_test_split, GridSearchCV, cross_val_score, KFold\n",
    "from sklearn.preprocessing import LabelEncoder\n",
    "from sklearn.impute import SimpleImputer\n",
    "from sklearn.preprocessing import OneHotEncoder as OHE\n",
    "from sklearn.pipeline import Pipeline\n",
    "from sklearn.ensemble import RandomForestRegressor\n",
    "from sklearn.metrics import mean_absolute_error, accuracy_score, mean_squared_error\n",
    "from sklearn.compose import ColumnTransformer\n",
    "\n",
    "import xgboost\n",
    "import lightgbm"
   ]
  },
  {
   "cell_type": "code",
   "execution_count": null,
   "metadata": {},
   "outputs": [],
   "source": [
    "train_y = all_df.price\n",
    "train_x = all_df.drop(['price'], axis=1) "
   ]
  },
  {
   "cell_type": "code",
   "execution_count": null,
   "metadata": {},
   "outputs": [
    {
     "data": {
      "text/html": [
       "<div>\n",
       "<style scoped>\n",
       "    .dataframe tbody tr th:only-of-type {\n",
       "        vertical-align: middle;\n",
       "    }\n",
       "\n",
       "    .dataframe tbody tr th {\n",
       "        vertical-align: top;\n",
       "    }\n",
       "\n",
       "    .dataframe thead th {\n",
       "        text-align: right;\n",
       "    }\n",
       "</style>\n",
       "<table border=\"1\" class=\"dataframe\">\n",
       "  <thead>\n",
       "    <tr style=\"text-align: right;\">\n",
       "      <th></th>\n",
       "      <th>model_key</th>\n",
       "      <th>mileage</th>\n",
       "      <th>engine_power</th>\n",
       "      <th>registration_year</th>\n",
       "      <th>fuel</th>\n",
       "      <th>paint_color</th>\n",
       "      <th>car_type</th>\n",
       "    </tr>\n",
       "  </thead>\n",
       "  <tbody>\n",
       "    <tr>\n",
       "      <th>1172</th>\n",
       "      <td>3 Series</td>\n",
       "      <td>168833.0</td>\n",
       "      <td>105.0</td>\n",
       "      <td>2014.0</td>\n",
       "      <td>diesel</td>\n",
       "      <td>black</td>\n",
       "      <td>estate</td>\n",
       "    </tr>\n",
       "    <tr>\n",
       "      <th>3100</th>\n",
       "      <td>5 Series</td>\n",
       "      <td>205844.0</td>\n",
       "      <td>150.0</td>\n",
       "      <td>2010.0</td>\n",
       "      <td>diesel</td>\n",
       "      <td>grey</td>\n",
       "      <td>sedan</td>\n",
       "    </tr>\n",
       "    <tr>\n",
       "      <th>3029</th>\n",
       "      <td>5 Series</td>\n",
       "      <td>142975.0</td>\n",
       "      <td>120.0</td>\n",
       "      <td>2012.0</td>\n",
       "      <td>diesel</td>\n",
       "      <td>grey</td>\n",
       "      <td>sedan</td>\n",
       "    </tr>\n",
       "    <tr>\n",
       "      <th>1564</th>\n",
       "      <td>5 Series</td>\n",
       "      <td>116761.0</td>\n",
       "      <td>135.0</td>\n",
       "      <td>2014.0</td>\n",
       "      <td>diesel</td>\n",
       "      <td>brown</td>\n",
       "      <td>estate</td>\n",
       "    </tr>\n",
       "    <tr>\n",
       "      <th>3560</th>\n",
       "      <td>5 Series</td>\n",
       "      <td>143763.0</td>\n",
       "      <td>120.0</td>\n",
       "      <td>2012.0</td>\n",
       "      <td>diesel</td>\n",
       "      <td>brown</td>\n",
       "      <td>sedan</td>\n",
       "    </tr>\n",
       "  </tbody>\n",
       "</table>\n",
       "</div>"
      ],
      "text/plain": [
       "     model_key   mileage  engine_power  registration_year    fuel paint_color  \\\n",
       "1172  3 Series  168833.0         105.0             2014.0  diesel       black   \n",
       "3100  5 Series  205844.0         150.0             2010.0  diesel        grey   \n",
       "3029  5 Series  142975.0         120.0             2012.0  diesel        grey   \n",
       "1564  5 Series  116761.0         135.0             2014.0  diesel       brown   \n",
       "3560  5 Series  143763.0         120.0             2012.0  diesel       brown   \n",
       "\n",
       "     car_type  \n",
       "1172   estate  \n",
       "3100    sedan  \n",
       "3029    sedan  \n",
       "1564   estate  \n",
       "3560    sedan  "
      ]
     },
     "execution_count": 94,
     "metadata": {},
     "output_type": "execute_result"
    }
   ],
   "source": [
    "train_X, valid_X, train_Y, valid_Y = train_test_split(train_x, train_y, test_size=0.2, random_state=0) \n",
    "valid_X.head(5)"
   ]
  },
  {
   "cell_type": "code",
   "execution_count": null,
   "metadata": {},
   "outputs": [
    {
     "data": {
      "text/plain": [
       "['mileage', 'engine_power', 'registration_year']"
      ]
     },
     "execution_count": 95,
     "metadata": {},
     "output_type": "execute_result"
    }
   ],
   "source": [
    "categorical_col = [cname for cname in train_X.columns if train_X[cname].dtype == 'object']\n",
    "numberical_col = [cname for cname in train_X.columns if train_X[cname].dtype == 'float64']\n",
    "numberical_col"
   ]
  },
  {
   "cell_type": "code",
   "execution_count": null,
   "metadata": {},
   "outputs": [],
   "source": [
    "OH = OHE(handle_unknown='ignore', sparse = False)\n",
    "OH_train_X = pd.DataFrame(OH.fit_transform(train_X[categorical_col]))\n",
    "OH_valid_X = pd.DataFrame(OH.transform(valid_X[categorical_col]))\n",
    "\n",
    "le_train_X = train_X.copy()\n",
    "le_valid_X = valid_X.copy()\n",
    "\n",
    "le = LabelEncoder()\n",
    "for cat in categorical_col:\n",
    "    le_train_X[cat] = le.fit_transform(le_train_X[cat])\n",
    "    le_valid_X[cat] = le.transform(le_valid_X[cat])"
   ]
  },
  {
   "cell_type": "code",
   "execution_count": null,
   "metadata": {},
   "outputs": [
    {
     "data": {
      "text/plain": [
       "model_key              int32\n",
       "mileage              float64\n",
       "engine_power         float64\n",
       "registration_year    float64\n",
       "fuel                   int32\n",
       "paint_color            int32\n",
       "car_type               int32\n",
       "dtype: object"
      ]
     },
     "execution_count": 97,
     "metadata": {},
     "output_type": "execute_result"
    }
   ],
   "source": [
    "le_train_X.dtypes"
   ]
  },
  {
   "cell_type": "code",
   "execution_count": null,
   "metadata": {},
   "outputs": [
    {
     "name": "stdout",
     "output_type": "stream",
     "text": [
      "Score is 2318.4138286893703\n"
     ]
    }
   ],
   "source": [
    "def score_set(train_X, valid_X, train_Y, valid_Y):\n",
    "    model = RandomForestRegressor(n_estimators=100, n_jobs=5, random_state=0)\n",
    "    model.fit(train_X, train_Y)\n",
    "    preds = model.predict(valid_X)\n",
    "    return print('Score is {}'.format(mean_absolute_error(valid_Y, preds)))\n",
    "\n",
    "score_set(le_train_X, le_valid_X, train_Y, valid_Y)"
   ]
  },
  {
   "cell_type": "code",
   "execution_count": null,
   "metadata": {},
   "outputs": [
    {
     "name": "stdout",
     "output_type": "stream",
     "text": [
      "Score is 4791.064301171617\n"
     ]
    }
   ],
   "source": [
    "score_set(OH_train_X, OH_valid_X, train_Y, valid_Y)"
   ]
  },
  {
   "cell_type": "code",
   "execution_count": null,
   "metadata": {},
   "outputs": [
    {
     "data": {
      "text/html": [
       "<div>\n",
       "<style scoped>\n",
       "    .dataframe tbody tr th:only-of-type {\n",
       "        vertical-align: middle;\n",
       "    }\n",
       "\n",
       "    .dataframe tbody tr th {\n",
       "        vertical-align: top;\n",
       "    }\n",
       "\n",
       "    .dataframe thead th {\n",
       "        text-align: right;\n",
       "    }\n",
       "</style>\n",
       "<table border=\"1\" class=\"dataframe\">\n",
       "  <thead>\n",
       "    <tr style=\"text-align: right;\">\n",
       "      <th></th>\n",
       "      <th>mileage</th>\n",
       "      <th>engine_power</th>\n",
       "      <th>registration_year</th>\n",
       "    </tr>\n",
       "  </thead>\n",
       "  <tbody>\n",
       "    <tr>\n",
       "      <th>0</th>\n",
       "      <td>140411.0</td>\n",
       "      <td>100.0</td>\n",
       "      <td>2012.0</td>\n",
       "    </tr>\n",
       "    <tr>\n",
       "      <th>1</th>\n",
       "      <td>13929.0</td>\n",
       "      <td>317.0</td>\n",
       "      <td>2016.0</td>\n",
       "    </tr>\n",
       "    <tr>\n",
       "      <th>2</th>\n",
       "      <td>183297.0</td>\n",
       "      <td>120.0</td>\n",
       "      <td>2012.0</td>\n",
       "    </tr>\n",
       "    <tr>\n",
       "      <th>3</th>\n",
       "      <td>128035.0</td>\n",
       "      <td>135.0</td>\n",
       "      <td>2014.0</td>\n",
       "    </tr>\n",
       "    <tr>\n",
       "      <th>4</th>\n",
       "      <td>97097.0</td>\n",
       "      <td>160.0</td>\n",
       "      <td>2014.0</td>\n",
       "    </tr>\n",
       "    <tr>\n",
       "      <th>...</th>\n",
       "      <td>...</td>\n",
       "      <td>...</td>\n",
       "      <td>...</td>\n",
       "    </tr>\n",
       "    <tr>\n",
       "      <th>4838</th>\n",
       "      <td>39743.0</td>\n",
       "      <td>110.0</td>\n",
       "      <td>2015.0</td>\n",
       "    </tr>\n",
       "    <tr>\n",
       "      <th>4839</th>\n",
       "      <td>49832.0</td>\n",
       "      <td>100.0</td>\n",
       "      <td>2015.0</td>\n",
       "    </tr>\n",
       "    <tr>\n",
       "      <th>4840</th>\n",
       "      <td>19633.0</td>\n",
       "      <td>110.0</td>\n",
       "      <td>2015.0</td>\n",
       "    </tr>\n",
       "    <tr>\n",
       "      <th>4841</th>\n",
       "      <td>27920.0</td>\n",
       "      <td>110.0</td>\n",
       "      <td>2016.0</td>\n",
       "    </tr>\n",
       "    <tr>\n",
       "      <th>4842</th>\n",
       "      <td>195840.0</td>\n",
       "      <td>160.0</td>\n",
       "      <td>2013.0</td>\n",
       "    </tr>\n",
       "  </tbody>\n",
       "</table>\n",
       "<p>4841 rows × 3 columns</p>\n",
       "</div>"
      ],
      "text/plain": [
       "       mileage  engine_power  registration_year\n",
       "0     140411.0         100.0             2012.0\n",
       "1      13929.0         317.0             2016.0\n",
       "2     183297.0         120.0             2012.0\n",
       "3     128035.0         135.0             2014.0\n",
       "4      97097.0         160.0             2014.0\n",
       "...        ...           ...                ...\n",
       "4838   39743.0         110.0             2015.0\n",
       "4839   49832.0         100.0             2015.0\n",
       "4840   19633.0         110.0             2015.0\n",
       "4841   27920.0         110.0             2016.0\n",
       "4842  195840.0         160.0             2013.0\n",
       "\n",
       "[4841 rows x 3 columns]"
      ]
     },
     "execution_count": 100,
     "metadata": {},
     "output_type": "execute_result"
    }
   ],
   "source": [
    "train_X_num = all_df[numberical_col].copy()\n",
    "train_X_num"
   ]
  },
  {
   "cell_type": "code",
   "execution_count": null,
   "metadata": {},
   "outputs": [
    {
     "data": {
      "text/plain": [
       "3495.018342675986"
      ]
     },
     "execution_count": 101,
     "metadata": {},
     "output_type": "execute_result"
    }
   ],
   "source": [
    "def get_score(n_estimate):\n",
    "    pipeline = Pipeline(steps=[\n",
    "    ('impute', SimpleImputer(missing_values=np.nan, strategy='mean')),\n",
    "    ('model', RandomForestRegressor(n_estimators=n_estimate, n_jobs=5, random_state=0))\n",
    "])\n",
    "    score = cross_val_score(pipeline, train_X_num, train_y, cv=5, scoring='neg_mean_absolute_error') * -1\n",
    "    return score.mean()\n",
    "\n",
    "get_score(100)"
   ]
  },
  {
   "cell_type": "code",
   "execution_count": null,
   "metadata": {},
   "outputs": [
    {
     "data": {
      "image/png": "[encoded data removed]",
      "text/plain": [
       "<Figure size 432x288 with 1 Axes>"
      ]
     },
     "metadata": {
      "needs_background": "light"
     },
     "output_type": "display_data"
    }
   ],
   "source": [
    "test={}\n",
    "for i in range(10, 500, 50):\n",
    "    test[i] = get_score(i)\n",
    "\n",
    "plt.plot(list(test.keys()), list(test.values()))\n",
    "plt.show()"
   ]
  },
  {
   "cell_type": "code",
   "execution_count": null,
   "metadata": {},
   "outputs": [
    {
     "name": "stdout",
     "output_type": "stream",
     "text": [
      "Fitting 5 folds for each of 9 candidates, totalling 45 fits\n",
      "[15:03:43] WARNING: C:/Users/Administrator/workspace/xgboost-win64_release_1.5.1/src/objective/regression_obj.cu:188: reg:linear is now deprecated in favor of reg:squarederror.\n",
      "0.7893785607288374\n",
      "{'colsample_bytree': 0.7, 'learning_rate': 0.03, 'max_depth': 6, 'min_child_weight': 4, 'n_estimators': 500, 'nthread': 4, 'objective': 'reg:linear', 'subsample': 0.7}\n"
     ]
    }
   ],
   "source": [
    "xgb_cv=xgboost.XGBRegressor()\n",
    "parameters = {'nthread':[4], #when use hyperthread, xgboost may become slower\n",
    "              'objective':['reg:linear'],\n",
    "              'learning_rate': [.03, 0.05, .07], #so called `eta` value\n",
    "              'max_depth': [5, 6, 7],\n",
    "              'min_child_weight': [4],\n",
    "              'subsample': [0.7],\n",
    "              'colsample_bytree': [0.7],\n",
    "              'n_estimators': [500]}\n",
    "\n",
    "xgb_grid = GridSearchCV(xgb_cv,\n",
    "                        parameters,\n",
    "                        cv = 5,\n",
    "                        n_jobs = 5,\n",
    "                        verbose=True)\n",
    "xgb_grid.fit(le_train_X, train_Y)\n",
    "print(xgb_grid.best_score_)\n",
    "print(xgb_grid.best_params_)"
   ]
  },
  {
   "cell_type": "code",
   "execution_count": null,
   "metadata": {},
   "outputs": [
    {
     "data": {
      "text/plain": [
       "2391.982073426616"
      ]
     },
     "execution_count": 104,
     "metadata": {},
     "output_type": "execute_result"
    }
   ],
   "source": [
    "xg_model = xgboost.XGBRegressor(n_estimators=500, learning_rate=0.1, random_state=0)\n",
    "xg_model.fit(le_train_X, train_Y)\n",
    "xg_prediction_1 = xg_model.predict(le_valid_X)\n",
    "mean_absolute_error(xg_prediction_1, valid_Y)"
   ]
  },
  {
   "cell_type": "code",
   "execution_count": null,
   "metadata": {},
   "outputs": [
    {
     "data": {
      "text/plain": [
       "<AxesSubplot:title={'center':'Feature importance'}, xlabel='F score', ylabel='Features'>"
      ]
     },
     "execution_count": 105,
     "metadata": {},
     "output_type": "execute_result"
    },
    {
     "data": {
      "image/png": "[encoded data removed]",
      "text/plain": [
       "<Figure size 720x432 with 1 Axes>"
      ]
     },
     "metadata": {
      "needs_background": "light"
     },
     "output_type": "display_data"
    }
   ],
   "source": [
    "fig, ax = plt.subplots(figsize=(10, 6))\n",
    "xgboost.plot_importance(xg_model, ax=ax)"
   ]
  },
  {
   "cell_type": "code",
   "execution_count": null,
   "metadata": {},
   "outputs": [
    {
     "data": {
      "text/plain": [
       "5452.734778121775"
      ]
     },
     "execution_count": 106,
     "metadata": {},
     "output_type": "execute_result"
    }
   ],
   "source": [
    "lgb = lightgbm.LGBMClassifier(n_estimators=500, learning_rate=0.1, random_state=0)\n",
    "# evals = [(le_valid_X, valid_Y)]\n",
    "# lgb.fit(le_train_X, train_Y, early_stopping_rounds=100, eval_metric = \"logloss\", eval_set=evals)\n",
    "lgb.fit(le_train_X, train_Y)\n",
    "lgb_pred = lgb.predict(le_valid_X)\n",
    "mean_absolute_error(valid_Y, lgb_pred)"
   ]
  },
  {
   "cell_type": "code",
   "execution_count": null,
   "metadata": {},
   "outputs": [
    {
     "data": {
      "text/plain": [
       "<AxesSubplot:title={'center':'Feature importance'}, xlabel='Feature importance', ylabel='Features'>"
      ]
     },
     "execution_count": 107,
     "metadata": {},
     "output_type": "execute_result"
    },
    {
     "data": {
      "image/png": "[encoded data removed]",
      "text/plain": [
       "<Figure size 720x432 with 1 Axes>"
      ]
     },
     "metadata": {
      "needs_background": "light"
     },
     "output_type": "display_data"
    }
   ],
   "source": [
    "fig, ax = plt.subplots(figsize=(10, 6))\n",
    "lightgbm.plot_importance(lgb, ax=ax)"
   ]
  },
  {
   "cell_type": "code",
   "execution_count": 115,
   "metadata": {},
   "outputs": [
    {
     "name": "stdout",
     "output_type": "stream",
     "text": [
      "Fitting 5 folds for each of 6 candidates, totalling 30 fits\n"
     ]
    },
    {
     "name": "stderr",
     "output_type": "stream",
     "text": [
      "C:\\Users\\evfrn\\anaconda3\\envs\\kaggle\\lib\\site-packages\\sklearn\\model_selection\\_split.py:676: UserWarning: The least populated class in y has only 1 members, which is less than n_splits=5.\n",
      "  warnings.warn(\n"
     ]
    }
   ],
   "source": [
    "# parameters = {\n",
    "#     'task' : ['predict'],\n",
    "#     'boosting': ['gbdt' ],\n",
    "#     'objective': ['root_mean_squared_error'],\n",
    "#     'num_iterations': [  1500, 2000,5000  ],\n",
    "#     'learning_rate':[  0.05, 0.005 ],\n",
    "#   #  'num_leaves':[ 7, 15, 31  ],\n",
    "#   #  'max_depth' :[ 10,15,25],\n",
    "#   #  'min_data_in_leaf':[15,25 ],\n",
    "#   # 'feature_fraction': [ 0.6, 0.8,  0.9],\n",
    "#   #   'bagging_fraction': [  0.6, 0.8 ],\n",
    "#   #   'bagging_freq': [   100, 200, 400  ],\n",
    "     \n",
    "# }\n",
    "\n",
    "# gsearch_lgb = GridSearchCV(lgb, param_grid = parameters, n_jobs=6, verbose=10)\n",
    "# gsearch_lgb.fit(le_train_X, train_Y)\n",
    " \n",
    "\n",
    "# print('best params')\n",
    "# print (gsearch_lgb.best_params_)\n",
    "# preds_lgb_model = gsearch_lgb.predict(le_valid_X)\n",
    "# rmse_lgb = np.sqrt(mean_squared_error(valid_Y, preds_lgb_model))\n",
    "# print(\" RMSE: %f\" % (rmse_lgb ))"
   ]
  },
  {
   "cell_type": "code",
   "execution_count": null,
   "metadata": {},
   "outputs": [],
   "source": []
  }
 ],
 "metadata": {
  "interpreter": {
   "hash": "1a1952cdf45a86f7edd08a19351d566d9e61e9dcac227a0e659c9dfcd018e851"
  },
  "kernelspec": {
   "display_name": "Python 3.8.12 64-bit ('coin': conda)",
   "language": "python",
   "name": "python3"
  },
  "language_info": {
   "codemirror_mode": {
    "name": "ipython",
    "version": 3
   },
   "file_extension": ".py",
   "mimetype": "text/x-python",
   "name": "python",
   "nbconvert_exporter": "python",
   "pygments_lexer": "ipython3",
   "version": "3.9.7"
  },
  "orig_nbformat": 4
 },
 "nbformat": 4,
 "nbformat_minor": 2
}
