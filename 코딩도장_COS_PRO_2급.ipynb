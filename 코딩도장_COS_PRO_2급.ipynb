{
  "nbformat": 4,
  "nbformat_minor": 0,
  "metadata": {
    "colab": {
      "name": "코딩도장 / COS PRO 2급.ipynb",
      "provenance": [],
      "toc_visible": true,
      "authorship_tag": "ABX9TyO1bHR4bC5P7jWg7kLXts+S",
      "include_colab_link": true
    },
    "kernelspec": {
      "name": "python3",
      "display_name": "Python 3"
    },
    "language_info": {
      "name": "python"
    }
  },
  "cells": [
    {
      "cell_type": "markdown",
      "metadata": {
        "id": "view-in-github",
        "colab_type": "text"
      },
      "source": [
        "<a href=\"https://colab.research.google.com/github/hideurface/Learned/blob/main/%EC%BD%94%EB%94%A9%EB%8F%84%EC%9E%A5_COS_PRO_2%EA%B8%89.ipynb\" target=\"_parent\"><img src=\"https://colab.research.google.com/assets/colab-badge.svg\" alt=\"Open In Colab\"/></a>"
      ]
    },
    {
      "cell_type": "markdown",
      "metadata": {
        "id": "F05sd2Qk-oA0"
      },
      "source": [
        "# 코딩도장"
      ]
    },
    {
      "cell_type": "markdown",
      "metadata": {
        "id": "e2uYFqWZUG1R"
      },
      "source": [
        "**24.5 심사문제: 특정 단어 개수 세기**"
      ]
    },
    {
      "cell_type": "code",
      "metadata": {
        "id": "VlMamoPvUAQY",
        "colab": {
          "base_uri": "https://localhost:8080/"
        },
        "outputId": "c4ff8715-935b-4a16-b38a-6c56a9c8d8db"
      },
      "source": [
        "\"\"\" 입력\n",
        "the grown-ups' response, this time, was to advise me to lay aside my drawings of boa constrictors, whether from the inside or the outside, and devote myself instead to geography, history, arithmetic, and grammar. That is why, at the, age of six, I gave up what might have been a magnificent career as a painter. I had been disheartened by the failure of my Drawing Number One and my Drawing Number Two. Grown-ups never understand anything by themselves, and it is tiresome for children to be always and forever explaining things to the.\n",
        "\"\"\"\n",
        "text = input()\n",
        "word = text.split(',')\n",
        "word_ = \"\".join(word)\n",
        "word = word_.split('.')\n",
        "word_ = \"\".join(word)\n",
        "word = word_.split()\n",
        "print(word.count(\"the\"))"
      ],
      "execution_count": 1,
      "outputs": [
        {
          "output_type": "stream",
          "name": "stdout",
          "text": [
            "the thetheethe\n",
            "1\n"
          ]
        }
      ]
    },
    {
      "cell_type": "markdown",
      "metadata": {
        "id": "UhIWCxTCTli5"
      },
      "source": [
        "**24.6 심사문제: 높은 가격순으로 출력**"
      ]
    },
    {
      "cell_type": "code",
      "metadata": {
        "id": "TfxDa87KTg5j"
      },
      "source": [
        "\"\"\"\n",
        "51900;83000;158000;367500;250000;59200;128500;1304000\n",
        "\"\"\"\n",
        "text = input()  #입력\n",
        "table = text.split(';') \n",
        "num_table = list(map(int, table))\n",
        "sort_table = sorted(num_table)\n",
        "\n",
        "for i in reversed(sort_table):\n",
        "  print('{0:9,}'.format(i))"
      ],
      "execution_count": null,
      "outputs": []
    },
    {
      "cell_type": "markdown",
      "metadata": {
        "id": "QbWJ-EAbYHch"
      },
      "source": [
        "**25.8 심사문제: 딕셔너리에서 특정값 삭제**"
      ]
    },
    {
      "cell_type": "code",
      "metadata": {
        "colab": {
          "base_uri": "https://localhost:8080/"
        },
        "id": "bVgIJdRFYPgj",
        "outputId": "9fdae822-ce9f-431a-9c42-1e6318ce1f8b"
      },
      "source": [
        "keys = input().split()\n",
        "values = map(int, input().split())\n",
        " \n",
        "x = dict(zip(keys, values))\n",
        "x = {key: value for key, value in x.items() if value != 30}\n",
        "x = {key: value for key, value in x.items() if key != \"delta\"}\n",
        "\n",
        "print(x)"
      ],
      "execution_count": null,
      "outputs": [
        {
          "output_type": "stream",
          "name": "stdout",
          "text": [
            "alpha bravo charlie delta echo foxtrot golf\n",
            "30 40 50 60 70 80 90\n",
            "{'bravo': 40, 'charlie': 50, 'echo': 70, 'foxtrot': 80, 'golf': 90}\n"
          ]
        }
      ]
    },
    {
      "cell_type": "markdown",
      "metadata": {
        "id": "-jkb4RZaKgGg"
      },
      "source": [
        "26.9 심사문제: 공약수 구하기"
      ]
    },
    {
      "cell_type": "code",
      "metadata": {
        "colab": {
          "base_uri": "https://localhost:8080/"
        },
        "id": "mJVXkxN6KmgI",
        "outputId": "94ebb24c-c74d-4a1f-d23c-7f44312139b6"
      },
      "source": [
        "num, num2 = map(int, input().split())\n",
        "\n",
        "a = {i for i in range(1, num+1) if num % i == 0}\n",
        "b = {i for i in range(1, num2+1) if num2 % i == 0}\n",
        "\n",
        "divisor = a & b\n",
        " \n",
        "result = 0\n",
        "if type(divisor) == set:\n",
        "    result = sum(divisor)\n",
        " \n",
        "print(result)"
      ],
      "execution_count": null,
      "outputs": [
        {
          "output_type": "stream",
          "name": "stdout",
          "text": [
            "100 200\n",
            "217\n"
          ]
        }
      ]
    },
    {
      "cell_type": "markdown",
      "metadata": {
        "id": "pCERNKCuSOtL"
      },
      "source": [
        "**27.6 심사문제: 특정 문자가 들어있는 단어 찾기**"
      ]
    },
    {
      "cell_type": "code",
      "metadata": {
        "id": "5I_PcdCISY9S",
        "colab": {
          "base_uri": "https://localhost:8080/"
        },
        "outputId": "5150d873-864a-4e97-bf83-dc3df0e1d1ad"
      },
      "source": [
        "with open('words.txt', 'r') as file:\n",
        "\n",
        "    temp = file.readlines()\n",
        "    words = temp.split()\n",
        "    for i in words:\n",
        "        if \"c\" in i:\n",
        "            print(i.strip(',.'))"
      ],
      "execution_count": null,
      "outputs": [
        {
          "output_type": "stream",
          "name": "stdout",
          "text": [
            "Fortunately, however, for the reputation of Asteroid B-612, a Turkish dictator made a law that his subjects, under pain of death, should change to European costume. So in 1920 the astronomer gave his demonstration all over again, dressed with impressive style and elegance. And this time everybody accepted his report.\n",
            "<generator object <genexpr> at 0x7f2b29c96ed0>\n"
          ]
        }
      ]
    },
    {
      "cell_type": "markdown",
      "metadata": {
        "id": "_Erj-Uqnd5--"
      },
      "source": [
        "**Pallindrome**"
      ]
    },
    {
      "cell_type": "code",
      "metadata": {
        "colab": {
          "base_uri": "https://localhost:8080/"
        },
        "id": "8ZPs9UoScKsy",
        "outputId": "27e52479-c0a7-425b-9ad9-01daae738526"
      },
      "source": [
        "word = input('단어를 입력하세요: ')\n",
        " \n",
        "is_palindrome = True                 # 회문 판별값을 저장할 변수, 초깃값은 True\n",
        "for i in range(len(word) // 2):      # 0부터 문자열 길이의 절반만큼 반복\n",
        "  if word[i] != word[-1 - i]:      # 왼쪽 문자와 오른쪽 문자를 비교하여 문자가 다르면 word[i] ex +1,2 word[-1 -i] ex-1, -2\n",
        "    is_palindrome = False        # 회문이 아님\n",
        "    break\n",
        " \n",
        "print(is_palindrome)                 # 회문 판별값 출력\n",
        "\n",
        "print(word == word[::-1])\n",
        "list(word == list(reversed(word)))\n"
      ],
      "execution_count": null,
      "outputs": [
        {
          "output_type": "stream",
          "name": "stdout",
          "text": [
            "단어를 입력하세요: level\n",
            "True\n"
          ]
        }
      ]
    },
    {
      "cell_type": "markdown",
      "metadata": {
        "id": "feL1xhyVd9_G"
      },
      "source": [
        "**N-gram**"
      ]
    },
    {
      "cell_type": "code",
      "metadata": {
        "colab": {
          "base_uri": "https://localhost:8080/"
        },
        "id": "JKiPWS68d_zm",
        "outputId": "c3b3e6f8-2ba9-4593-eca8-d94f15680089"
      },
      "source": [
        "#문자열\n",
        "text = 'Hello'\n",
        " \n",
        "for i in range(len(text) - 1):             # 2-gram이므로 문자열의 끝에서 한 글자 앞까지만 반복함\n",
        "    print(text[i], text[i + 1], sep='') \n",
        "\n",
        "#단어 단위\n",
        "text = 'this is python script'\n",
        "words = text.split()                 # 공백을 기준으로 문자열을 분리하여 리스트로 만듦\n",
        " \n",
        "for i in range(len(words) - 1):      # 2-gram이므로 리스트의 마지막에서 요소 한 개 앞까지만 반복함\n",
        "    print(words[i], words[i + 1])\n",
        "\n",
        "#Zip 함수 사용\n",
        "text = 'hello'\n",
        " \n",
        "two_gram = zip(text, text[1:])\n",
        "for i in two_gram:\n",
        "    print(i[0], i[1], sep='')\n",
        "\n",
        "text = 'this is python script'\n",
        "words = text.split()\n",
        "list(zip(words, words[1:]))"
      ],
      "execution_count": null,
      "outputs": [
        {
          "output_type": "stream",
          "name": "stdout",
          "text": [
            "He\n",
            "el\n",
            "ll\n",
            "lo\n",
            "this is\n",
            "is python\n",
            "python script\n",
            "he\n",
            "el\n",
            "ll\n",
            "lo\n"
          ]
        }
      ]
    },
    {
      "cell_type": "markdown",
      "metadata": {
        "id": "kQ4KObjmgnP6"
      },
      "source": [
        "**29.4 심사문제: 사칙 연산 함수 만들기**"
      ]
    },
    {
      "cell_type": "code",
      "metadata": {
        "colab": {
          "base_uri": "https://localhost:8080/"
        },
        "id": "PVuXgnMIgryp",
        "outputId": "6eb2a15b-2766-40fc-b80a-4039912edf5f"
      },
      "source": [
        "x, y = 10, 20\n",
        "\n",
        "def calc(x,y):\n",
        "  \"\"\" 4칙연산 \"\"\"\n",
        "  a = x + y\n",
        "  s = x - y\n",
        "  m = x * y\n",
        "  d = x / y\n",
        "  return a, s, m, float(d)\n",
        "\n",
        "a, s, m, d = calc(x, y)\n",
        "print('덧셈: {0}, 뺄셈: {1}, 곱셈: {2}, 나눗셈: {3}'.format(a, s, m, d))"
      ],
      "execution_count": null,
      "outputs": [
        {
          "output_type": "stream",
          "name": "stdout",
          "text": [
            "덧셈: 30, 뺄셈: -10, 곱셈: 200, 나눗셈: 0.5\n"
          ]
        }
      ]
    },
    {
      "cell_type": "markdown",
      "metadata": {
        "id": "Mc_W2P0hxDg2"
      },
      "source": [
        "**28.4 심사문제: 파일에서 회문인 단어 찾기**"
      ]
    },
    {
      "cell_type": "code",
      "metadata": {
        "colab": {
          "base_uri": "https://localhost:8080/"
        },
        "id": "ARLADY6txG0G",
        "outputId": "77388f21-756a-43ba-f665-61325a1ede32"
      },
      "source": [
        "word = input('단어를 입력하세요: ')\n",
        "table = word.split() \n",
        "print(table)\n",
        "def pallindrome(words):\n",
        "  if words == words[::-1]:\n",
        "    return print(words)\n",
        "\n",
        "for i in table:\n",
        "  pallindrome(i)\n",
        "\n",
        "#list(word == list(reversed(word)))"
      ],
      "execution_count": null,
      "outputs": [
        {
          "output_type": "stream",
          "name": "stdout",
          "text": [
            "단어를 입력하세요: apache decal did neep noon refer river\n",
            "['apache', 'decal', 'did', 'neep', 'noon', 'refer', 'river']\n",
            "did\n",
            "noon\n",
            "refer\n"
          ]
        }
      ]
    },
    {
      "cell_type": "markdown",
      "metadata": {
        "id": "QIiZRjh28D1u"
      },
      "source": [
        "**30.7 심사문제: 낮은값 높은값**"
      ]
    },
    {
      "cell_type": "code",
      "metadata": {
        "colab": {
          "base_uri": "https://localhost:8080/"
        },
        "id": "dyFghoej8HB1",
        "outputId": "59ac9017-cf75-4cef-f9af-e55ccf30afe1"
      },
      "source": [
        "korean, english, mathematics, science = map(int, input().split())\n",
        "\n",
        "def get_min_max_score(*args):\n",
        "  return min(args), max(args)\n",
        "\n",
        "def get_average(**kwargs):\n",
        "  count, sum = 0, 0\n",
        "  for key, value in kwargs.items():\n",
        "    sum += value\n",
        "    count += 1\n",
        "  return sum / count\n",
        "\n",
        "min_score, max_score = get_min_max_score(korean, english, mathematics, science)\n",
        "average_score = get_average(korean=korean, english=english, mathematics=mathematics, science=science)\n",
        "print('낮은 점수: {0:.2f}, 높은 점수: {1:.2f}, 평균 점수: {2:.2f}'.format(min_score, max_score, average_score))\n",
        " \n",
        "min_score, max_score = get_min_max_score(english, science)\n",
        "average_score = get_average(english=english, science=science)\n",
        "print('낮은 점수: {0:.2f}, 높은 점수: {1:.2f}, 평균 점수: {2:.2f}'.format(min_score, max_score, average_score))"
      ],
      "execution_count": null,
      "outputs": [
        {
          "output_type": "stream",
          "name": "stdout",
          "text": [
            "89 92 73 83\n",
            "낮은 점수: 73.00, 높은 점수: 92.00, 평균 점수: 84.25\n",
            "낮은 점수: 83.00, 높은 점수: 92.00, 평균 점수: 87.50\n"
          ]
        }
      ]
    },
    {
      "cell_type": "markdown",
      "metadata": {
        "id": "ML_6NOERQUg5"
      },
      "source": [
        "**31.5 심사문제: 재귀호출로 피보나치 수 구하기**"
      ]
    },
    {
      "cell_type": "code",
      "metadata": {
        "colab": {
          "base_uri": "https://localhost:8080/"
        },
        "id": "lsPBtK2qQY4B",
        "outputId": "fd10edab-2f88-40dc-fdf9-0ac765a515bc"
      },
      "source": [
        "\"\"\"\n",
        "def fib(n):\n",
        "    if n == 0:\n",
        "        return 0\n",
        "    elif n == 1 or n == 2:\n",
        "        return 1\n",
        "    else:\n",
        "        return fib(n - 1) + fib(n - 2)\n",
        "\"\"\"\n",
        "num, i, num_a, num_b = 10, 0, 0, 1\n",
        "print(num_a, num_b, end=\" \")\n",
        "while i < num:\n",
        "  result = num_a + num_b\n",
        "  num_a = num_b\n",
        "  num_b = result\n",
        "  i += 1\n",
        "  print(result, end=\" \")"
      ],
      "execution_count": null,
      "outputs": [
        {
          "output_type": "stream",
          "name": "stdout",
          "text": [
            "0 1 1 2 3 5 8 13 21 34 55 89 "
          ]
        }
      ]
    },
    {
      "cell_type": "markdown",
      "metadata": {
        "id": "dKNYcw31iEZU"
      },
      "source": [
        "32.5 심사문제: 파일 이름을 한번에 바꾸기"
      ]
    },
    {
      "cell_type": "code",
      "metadata": {
        "colab": {
          "base_uri": "https://localhost:8080/"
        },
        "id": "qQ4j0RwaZiDq",
        "outputId": "14b7db33-8b48-44e1-de44-9c87514904ab"
      },
      "source": [
        "\"\"\"\n",
        "files = ['font', '1.png', '10.jpg', '11.gif', '2.jpg', '3.png', 'table.xslx', 'spec.docx']\n",
        "list(filter(lambda x: x.find('.jpg') != -1 or x.find('.png') != -1, files)) #find 일치할 때 -1 반환\n",
        "\"\"\"\n",
        "files = ['1.jpg', '10.png', '11.png', '2.jpg', '3.png']\n",
        "print(list(map(lambda x: '{0:03d}'.format(int(x.split('.')[0])) + \".\" + x.split('.')[1], files)))"
      ],
      "execution_count": null,
      "outputs": [
        {
          "output_type": "stream",
          "name": "stdout",
          "text": [
            "['001.jpg', '010.png', '011.png', '002.jpg', '003.png']\n"
          ]
        }
      ]
    },
    {
      "cell_type": "markdown",
      "metadata": {
        "id": "OtJABARwrAr0"
      },
      "source": [
        "**33.6 심사문제: 카운트다운 함수 만들기**"
      ]
    },
    {
      "cell_type": "code",
      "metadata": {
        "colab": {
          "base_uri": "https://localhost:8080/"
        },
        "id": "tPvV6n6HiMKi",
        "outputId": "b3382896-1972-4148-a0fe-c23b699f5daf"
      },
      "source": [
        "def countdown(n):\n",
        "  i = n + 1\n",
        "  def count():\n",
        "    nonlocal i\n",
        "    i -= 1\n",
        "    return i\n",
        "  return count\n",
        "\n",
        "n = 20\n",
        "\n",
        "c = countdown(n)\n",
        "for i in range(n):\n",
        "    print(c(), end=' ')"
      ],
      "execution_count": null,
      "outputs": [
        {
          "output_type": "stream",
          "name": "stdout",
          "text": [
            "20 19 18 17 16 15 14 13 12 11 10 9 8 7 6 5 4 3 2 1 "
          ]
        }
      ]
    },
    {
      "cell_type": "code",
      "metadata": {
        "colab": {
          "base_uri": "https://localhost:8080/"
        },
        "id": "efaB3q23sLpR",
        "outputId": "07d3d1e4-c6e4-4722-ebdc-8fdafccc8676"
      },
      "source": [
        "class Person:\n",
        "    def __init__(self, name, age, address):\n",
        "        self.hello = '안녕하세요.'\n",
        "        self.name = name\n",
        "        self.age = age\n",
        "        self.address = address\n",
        "        self.__wallet = wallet\n",
        " \n",
        "    def greeting(self):\n",
        "        print('{0} 저는 {1}입니다.'.format(self.hello, self.name))\n",
        "\n",
        "    def pay(self, amount):\n",
        "      self.__wallet -= amount\n",
        "      print(amount)\n",
        "\n",
        " \n",
        "maria = Person('마리아', 20, '서울시 서초구 반포동')\n",
        "maria.greeting()    # 안녕하세요. 저는 마리아입니다.\n",
        " \n",
        "print('이름:', maria.name)       # 마리아\n",
        "print('나이:', maria.age)        # 20\n",
        "print('주소:', maria.address)"
      ],
      "execution_count": null,
      "outputs": [
        {
          "output_type": "stream",
          "name": "stdout",
          "text": [
            "안녕하세요. 저는 마리아입니다.\n",
            "이름: 마리아\n",
            "나이: 20\n",
            "주소: 서울시 서초구 반포동\n"
          ]
        }
      ]
    },
    {
      "cell_type": "markdown",
      "metadata": {
        "id": "44ibTGliw8ga"
      },
      "source": [
        "**34.6 심사문제: 게임 케릭터 클래스 만들기**"
      ]
    },
    {
      "cell_type": "code",
      "metadata": {
        "colab": {
          "base_uri": "https://localhost:8080/"
        },
        "id": "R1Fv-kc2vgN8",
        "outputId": "d77c44ce-8b9a-4f61-a820-f9492251a7dd"
      },
      "source": [
        "class Annie:\n",
        "  def __init__(self, health, mana, ability_power):\n",
        "    self.health = health\n",
        "    self.mana = mana\n",
        "    self.ability_power = ability_power\n",
        "\n",
        "  def tibbers(self):\n",
        "    ap = self.ability_power * 0.65 +400\n",
        "    print(\"티버: 피해량 {}\".format(ap))\n",
        "\n",
        "health, mana, ability_power = map(float, input().split())\n",
        " \n",
        "x = Annie(health=health, mana=mana, ability_power=ability_power)\n",
        "x.tibbers()"
      ],
      "execution_count": null,
      "outputs": [
        {
          "output_type": "stream",
          "name": "stdout",
          "text": [
            "1803.68 1184.0 645\n",
            "티버: 피해량 819.25\n"
          ]
        }
      ]
    },
    {
      "cell_type": "markdown",
      "metadata": {
        "id": "bVGfj69IxSIJ"
      },
      "source": [
        "**35.6 시간 클래스 만들기**"
      ]
    },
    {
      "cell_type": "code",
      "metadata": {
        "colab": {
          "base_uri": "https://localhost:8080/"
        },
        "id": "mlzA54yGxV7J",
        "outputId": "0516656b-194b-407f-f8ae-cc397d6c801a"
      },
      "source": [
        "class Time:\n",
        "  def __init__(self, hour, minute, second):\n",
        "    self.hour = hour\n",
        "    self.minute = minute\n",
        "    self.second = second\n",
        "\n",
        "  @classmethod\n",
        "  def from_string(cls, time_string):\n",
        "    hour, minute, second = map(int, time_string.split(\":\"))\n",
        "    return cls(hour, minute, second)\n",
        "\n",
        "  @staticmethod\n",
        "  def is_time_valid(time_string):\n",
        "    hour, minute, second = map(int, time_string.split(\":\"))\n",
        "    return 24 >= hour and 59 >= minute and 60 >= second\n",
        "  \n",
        "time_string = input()\n",
        " \n",
        "if Time.is_time_valid(time_string):\n",
        "  t = Time.from_string(time_string)\n",
        "  print(t.hour, t.minute, t.second)\n",
        "else:\n",
        "  print('잘못된 시간 형식입니다.')"
      ],
      "execution_count": null,
      "outputs": [
        {
          "output_type": "stream",
          "name": "stdout",
          "text": [
            "22:20:20\n",
            "22 20 20\n"
          ]
        }
      ]
    },
    {
      "cell_type": "markdown",
      "metadata": {
        "id": "cAkAelah-wgz"
      },
      "source": [
        "# COS PRO 2급"
      ]
    },
    {
      "cell_type": "markdown",
      "metadata": {
        "id": "2ZcO8Oyb-16r"
      },
      "source": [
        "# 프로그래머스"
      ]
    },
    {
      "cell_type": "code",
      "metadata": {
        "colab": {
          "base_uri": "https://localhost:8080/"
        },
        "id": "GbQQhGuAS4Ps",
        "outputId": "f3dd7ffd-0d4e-4bf4-d527-2bf721b497a9"
      },
      "source": [
        "def solution(shirt_size):\n",
        "  size_order = [\"XS\", \"S\", \"M\", \"L\", \"XL\", \"XXL\"]\n",
        "  answer = [0 for i in range(len(size_order))]\n",
        "  for i, order in enumerate(size_order):\n",
        "    count = 0\n",
        "    for j in range(len(shirt_size)):\n",
        "      if order == shirt_size[j]:\n",
        "        count += 1\n",
        "        answer[i] = count\n",
        "  return answer\n",
        "\n",
        "shirt_size = [\"XS\", \"S\", \"L\", \"L\", \"XL\", \"S\"]\n",
        "ret = solution(shirt_size);\n",
        "\n",
        "print(\"solution 함수의 반환 값은\", ret, \"입니다.\")"
      ],
      "execution_count": null,
      "outputs": [
        {
          "output_type": "stream",
          "name": "stdout",
          "text": [
            "solution 함수의 반환 값은 [1, 2, 0, 2, 1, 0] 입니다.\n"
          ]
        }
      ]
    },
    {
      "cell_type": "code",
      "metadata": {
        "colab": {
          "base_uri": "https://localhost:8080/"
        },
        "id": "wHF0MUvnruHS",
        "outputId": "85c313f1-d4f3-4380-eb38-654842c65332"
      },
      "source": [
        "def solution(price, grade):\n",
        "  discount = {\"V\":15, \"G\":10, \"S\":5}\n",
        "  percentage = discount.get(grade)\n",
        "  return int(price - (price * percentage / 100))\n",
        "\n",
        "price1 = 2500\n",
        "grade1 = \"V\"\n",
        "ret1 = solution(price1, grade1)\n",
        "\n",
        "print(\"solution 함수의 반환 값은\", ret1, \"입니다.\")\n",
        "    \n",
        "price2 = 96900\n",
        "grade2 = \"S\"\n",
        "ret2 = solution(price2, grade2)\n",
        "\n",
        "print(\"solution 함수의 반환 값은\", ret2, \"입니다.\")"
      ],
      "execution_count": null,
      "outputs": [
        {
          "output_type": "stream",
          "name": "stdout",
          "text": [
            "solution 함수의 반환 값은 2125 입니다.\n",
            "solution 함수의 반환 값은 92055 입니다.\n"
          ]
        }
      ]
    },
    {
      "cell_type": "code",
      "metadata": {
        "colab": {
          "base_uri": "https://localhost:8080/"
        },
        "id": "V9BkNastDVca",
        "outputId": "3a59c1f4-f400-4930-c5e1-1dd020757501"
      },
      "source": [
        "input_num = list(input().split())\n",
        "comp, count = input_num[0], 0\n",
        "for i in range(len(input_num)):\n",
        "  if comp < input_num[i]:\n",
        "    comp = input_num[i]\n",
        "    count += 1\n",
        "  else:\n",
        "    pass\n",
        "print(comp, count)\n"
      ],
      "execution_count": null,
      "outputs": [
        {
          "output_type": "stream",
          "name": "stdout",
          "text": [
            "3 29 38 12 57 74 40 85 61\n",
            "85 4\n"
          ]
        }
      ]
    }
  ]
}